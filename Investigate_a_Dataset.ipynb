{
 "cells": [
  {
   "cell_type": "markdown",
   "metadata": {
    "tags": []
   },
   "source": [
    "# Project: Investigate a Dataset – TMDb Movie Data\n",
    "\n",
    "## Table of Contents\n",
    "- [Introduction](#intro)\n",
    "- [Data Wrangling](#data-wrangling)\n",
    "- [Exploratory Data Analysis](#exploratory-data-analysis)\n",
    "- [Conclusions](#conclusions)\n"
   ]
  },
  {
   "cell_type": "markdown",
   "metadata": {},
   "source": [
    "# <a id='intro'></a>\n",
    "## Introduction\n",
    "\n",
    "### Dataset Description \n",
    "\n",
    "This dataset, sourced from The Movie Database (TMDb), contains metadata for 10,866 movies released over multiple decades. It was selected for exploratory analysis as part of the \"Investigate a Dataset\" project in the Udacity Data Analyst Nanodegree.\n",
    "\n",
    "Each row represents a single film and includes a range of attributes related to its popularity, production, ratings, and creative elements; providing rich insights into storytelling trends and audience reception.\n",
    "\n",
    "---\n",
    "\n",
    "### Dataset Structure\n",
    "\n",
    "The dataset includes one primary table with the following columns:\n",
    "\n",
    "| Column Name              | Description                                                                 |\n",
    "|--------------------------|------------------------------------------------------------------------------|\n",
    "| `id`                     | Unique identifier for each movie entry                                      |\n",
    "| `imdb_id`                | IMDb identifier for reference                                                |\n",
    "| `popularity`             | Popularity score on TMDb                                                     |\n",
    "| `budget`                 | Production budget in USD                                                     |\n",
    "| `revenue`                | Box office revenue in USD                                                    |\n",
    "| `original_title`         | Original title of the movie                                                  |\n",
    "| `cast`                   | List of main cast members                                                    |\n",
    "| `homepage`               | Official homepage URL (if available)                                        |\n",
    "| `director`               | Director of the movie                                                        |\n",
    "| `tagline`                | Promotional slogan or catchphrase                                           |\n",
    "| `keywords`               | Descriptive keywords or themes                                               |\n",
    "| `overview`               | Brief plot summary                                                           |\n",
    "| `runtime`                | Duration of the movie (in minutes)                                           |\n",
    "| `genres`                 | One or more genre labels (e.g., Action, Drama)                              |\n",
    "| `production_companies`   | Companies involved in production                                              |\n",
    "| `release_date`           | Release date of the movie                                                    |\n",
    "| `vote_count`             | Number of user votes on TMDb                                                 |\n",
    "| `vote_average`           | Average rating received from users                                           |\n",
    "| `release_year`           | Year of release (extracted from `release_date`)                              |\n",
    "| `budget_adj`             | Inflation-adjusted budget                                                    |\n",
    "| `revenue_adj`            | Inflation-adjusted revenue                                                   |\n",
    "\n",
    "---\n",
    "\n",
    "\n",
    "### Questions for Analysis\n",
    "<li> Which genres are most associated with cult-classic movies in the TMDb dataset? \n",
    "<li> Which actors appear the most in cult-classic films?\n"
   ]
  },
  {
   "cell_type": "markdown",
   "metadata": {},
   "source": [
    "### Working Definition of a \"Cult-Classic\" movie\n",
    "- Low initial popularity or revenue (when compared to 'Blockbusters')\n",
    "- High vote average despite lower vote count (suggests niche but passionate fanbase)\n",
    "- Unusual or standout keywords (e.g. “time travel”, “anti-hero”, “dark comedy”)\n",
    "- Unique tagline or overview that hints at offbeat themes\n",
    "\n",
    "## Cult Score Components\n",
    "- High ratings → good movie quality\n",
    "- Low vote count → niche, not many people have rated it\n",
    "- Low popularity → not a mainstream hit\n",
    "\n",
    "### Cult Score Formula (Conceptual)\n",
    "cult_score = vote_average - (vote_count / 1000) - (popularity / 10) <br>\n",
    ">_note: this is where I started, I make an adjustment later based on learnings_\n",
    "\n",
    "#### Component Breakdown\n",
    "- vote_average: This reflects how positively the movie was rated. A high value boosts the Cult Score.\n",
    "- vote_count / 1000: Dividing by 1000 scales down the number of ratings. More votes usually suggest mainstream popularity, so this subtracts from the score.\n",
    "- popularity / 10: This scales the popularity metric. Highly popular films get penalized because cult classics tend to be under the radar."
   ]
  },
  {
   "cell_type": "code",
   "execution_count": 60,
   "metadata": {},
   "outputs": [],
   "source": [
    "### Imports"
   ]
  },
  {
   "cell_type": "code",
   "execution_count": 94,
   "metadata": {
    "tags": []
   },
   "outputs": [
    {
     "ename": "ModuleNotFoundError",
     "evalue": "No module named 'pandoc'",
     "output_type": "error",
     "traceback": [
      "\u001b[0;31m---------------------------------------------------------------------------\u001b[0m",
      "\u001b[0;31mModuleNotFoundError\u001b[0m                       Traceback (most recent call last)",
      "Cell \u001b[0;32mIn[94], line 3\u001b[0m\n\u001b[1;32m      1\u001b[0m \u001b[38;5;28;01mimport\u001b[39;00m \u001b[38;5;21;01mpandas\u001b[39;00m \u001b[38;5;28;01mas\u001b[39;00m \u001b[38;5;21;01mpd\u001b[39;00m\n\u001b[1;32m      2\u001b[0m \u001b[38;5;28;01mimport\u001b[39;00m \u001b[38;5;21;01mnumpy\u001b[39;00m \u001b[38;5;28;01mas\u001b[39;00m \u001b[38;5;21;01mnp\u001b[39;00m\n\u001b[0;32m----> 3\u001b[0m \u001b[38;5;28;01mimport\u001b[39;00m \u001b[38;5;21;01mpandoc\u001b[39;00m \u001b[38;5;28;01mas\u001b[39;00m \u001b[38;5;21;01mpdoc\u001b[39;00m\n\u001b[1;32m      4\u001b[0m \u001b[38;5;28;01mimport\u001b[39;00m \u001b[38;5;21;01mmatplotlib\u001b[39;00m\u001b[38;5;21;01m.\u001b[39;00m\u001b[38;5;21;01mpyplot\u001b[39;00m \u001b[38;5;28;01mas\u001b[39;00m \u001b[38;5;21;01mplt\u001b[39;00m\n",
      "\u001b[0;31mModuleNotFoundError\u001b[0m: No module named 'pandoc'"
     ]
    }
   ],
   "source": [
    "import pandas as pd\n",
    "import numpy as np\n",
    "import matplotlib.pyplot as plt"
   ]
  },
  {
   "cell_type": "markdown",
   "metadata": {},
   "source": [
    "<a id='wrangling'></a>\n",
    "## Data Wrangling"
   ]
  },
  {
   "cell_type": "markdown",
   "metadata": {},
   "source": [
    "### Loading in the data and printing out some basic details"
   ]
  },
  {
   "cell_type": "markdown",
   "metadata": {},
   "source": [
    "__What is the size of the data frame?(index and column count)__ <br>\n",
    "__What data types are present?__"
   ]
  },
  {
   "cell_type": "code",
   "execution_count": 62,
   "metadata": {},
   "outputs": [],
   "source": [
    "df = pd.read_csv('/workspace/Database_TMDb_movie_data/tmdb-movies.csv')"
   ]
  },
  {
   "cell_type": "code",
   "execution_count": 63,
   "metadata": {},
   "outputs": [
    {
     "name": "stdout",
     "output_type": "stream",
     "text": [
      "data info\n",
      "<class 'pandas.core.frame.DataFrame'>\n",
      "RangeIndex: 10866 entries, 0 to 10865\n",
      "Data columns (total 21 columns):\n",
      " #   Column                Non-Null Count  Dtype  \n",
      "---  ------                --------------  -----  \n",
      " 0   id                    10866 non-null  int64  \n",
      " 1   imdb_id               10856 non-null  object \n",
      " 2   popularity            10866 non-null  float64\n",
      " 3   budget                10866 non-null  int64  \n",
      " 4   revenue               10866 non-null  int64  \n",
      " 5   original_title        10866 non-null  object \n",
      " 6   cast                  10790 non-null  object \n",
      " 7   homepage              2936 non-null   object \n",
      " 8   director              10822 non-null  object \n",
      " 9   tagline               8042 non-null   object \n",
      " 10  keywords              9373 non-null   object \n",
      " 11  overview              10862 non-null  object \n",
      " 12  runtime               10866 non-null  int64  \n",
      " 13  genres                10843 non-null  object \n",
      " 14  production_companies  9836 non-null   object \n",
      " 15  release_date          10866 non-null  object \n",
      " 16  vote_count            10866 non-null  int64  \n",
      " 17  vote_average          10866 non-null  float64\n",
      " 18  release_year          10866 non-null  int64  \n",
      " 19  budget_adj            10866 non-null  float64\n",
      " 20  revenue_adj           10866 non-null  float64\n",
      "dtypes: float64(4), int64(6), object(11)\n",
      "memory usage: 1.7+ MB\n",
      "None\n"
     ]
    }
   ],
   "source": [
    "print('data info') \n",
    "print(df.info())"
   ]
  },
  {
   "cell_type": "markdown",
   "metadata": {},
   "source": [
    "***\n",
    "__What are some basic statistics on the data frame?__"
   ]
  },
  {
   "cell_type": "code",
   "execution_count": 64,
   "metadata": {
    "scrolled": false
   },
   "outputs": [
    {
     "name": "stdout",
     "output_type": "stream",
     "text": [
      "describe\n",
      "                  id    popularity        budget       revenue       runtime  \\\n",
      "count   10866.000000  10866.000000  1.086600e+04  1.086600e+04  10866.000000   \n",
      "mean    66064.177434      0.646441  1.462570e+07  3.982332e+07    102.070863   \n",
      "std     92130.136561      1.000185  3.091321e+07  1.170035e+08     31.381405   \n",
      "min         5.000000      0.000065  0.000000e+00  0.000000e+00      0.000000   \n",
      "25%     10596.250000      0.207583  0.000000e+00  0.000000e+00     90.000000   \n",
      "50%     20669.000000      0.383856  0.000000e+00  0.000000e+00     99.000000   \n",
      "75%     75610.000000      0.713817  1.500000e+07  2.400000e+07    111.000000   \n",
      "max    417859.000000     32.985763  4.250000e+08  2.781506e+09    900.000000   \n",
      "\n",
      "         vote_count  vote_average  release_year    budget_adj   revenue_adj  \n",
      "count  10866.000000  10866.000000  10866.000000  1.086600e+04  1.086600e+04  \n",
      "mean     217.389748      5.974922   2001.322658  1.755104e+07  5.136436e+07  \n",
      "std      575.619058      0.935142     12.812941  3.430616e+07  1.446325e+08  \n",
      "min       10.000000      1.500000   1960.000000  0.000000e+00  0.000000e+00  \n",
      "25%       17.000000      5.400000   1995.000000  0.000000e+00  0.000000e+00  \n",
      "50%       38.000000      6.000000   2006.000000  0.000000e+00  0.000000e+00  \n",
      "75%      145.750000      6.600000   2011.000000  2.085325e+07  3.369710e+07  \n",
      "max     9767.000000      9.200000   2015.000000  4.250000e+08  2.827124e+09  \n"
     ]
    }
   ],
   "source": [
    "print('describe') \n",
    "print(df.describe())"
   ]
  },
  {
   "cell_type": "markdown",
   "metadata": {},
   "source": [
    "***\n",
    "__What are the number of unique entries per column?__"
   ]
  },
  {
   "cell_type": "code",
   "execution_count": 65,
   "metadata": {},
   "outputs": [
    {
     "name": "stdout",
     "output_type": "stream",
     "text": [
      "number of unique\n",
      "id                      10865\n",
      "imdb_id                 10855\n",
      "popularity              10814\n",
      "budget                    557\n",
      "revenue                  4702\n",
      "original_title          10571\n",
      "cast                    10719\n",
      "homepage                 2896\n",
      "director                 5067\n",
      "tagline                  7997\n",
      "keywords                 8804\n",
      "overview                10847\n",
      "runtime                   247\n",
      "genres                   2039\n",
      "production_companies     7445\n",
      "release_date             5909\n",
      "vote_count               1289\n",
      "vote_average               72\n",
      "release_year               56\n",
      "budget_adj               2614\n",
      "revenue_adj              4840\n",
      "dtype: int64\n"
     ]
    }
   ],
   "source": [
    "print('number of unique') \n",
    "print(df.nunique())"
   ]
  },
  {
   "cell_type": "markdown",
   "metadata": {},
   "source": [
    "### Data Cleaning "
   ]
  },
  {
   "cell_type": "markdown",
   "metadata": {
    "tags": []
   },
   "source": [
    "#### A couple of columns contain null values that could affect my analysis\n",
    "> tagline, genres, and keywords namely, but there are several more"
   ]
  },
  {
   "cell_type": "markdown",
   "metadata": {},
   "source": [
    "__Generate a list of columns containing null values__"
   ]
  },
  {
   "cell_type": "code",
   "execution_count": 66,
   "metadata": {
    "scrolled": true
   },
   "outputs": [
    {
     "data": {
      "text/plain": [
       "homepage                7930\n",
       "tagline                 2824\n",
       "keywords                1493\n",
       "production_companies    1030\n",
       "cast                      76\n",
       "director                  44\n",
       "genres                    23\n",
       "imdb_id                   10\n",
       "overview                   4\n",
       "budget_adj                 0\n",
       "release_year               0\n",
       "vote_average               0\n",
       "vote_count                 0\n",
       "release_date               0\n",
       "id                         0\n",
       "runtime                    0\n",
       "original_title             0\n",
       "revenue                    0\n",
       "budget                     0\n",
       "popularity                 0\n",
       "revenue_adj                0\n",
       "dtype: int64"
      ]
     },
     "execution_count": 66,
     "metadata": {},
     "output_type": "execute_result"
    }
   ],
   "source": [
    "df.isnull().sum().sort_values(ascending=False)"
   ]
  },
  {
   "cell_type": "markdown",
   "metadata": {},
   "source": [
    "#### Since I care about `Genres` and `keywords` I am going to drop rows where either is missing"
   ]
  },
  {
   "cell_type": "code",
   "execution_count": 67,
   "metadata": {
    "scrolled": false
   },
   "outputs": [
    {
     "name": "stdout",
     "output_type": "stream",
     "text": [
      "Remaining rows: 9368\n"
     ]
    }
   ],
   "source": [
    "df = df.dropna(subset=['genres', 'keywords'])\n",
    "remaining_rows = len(df)\n",
    "print(f\"Remaining rows: {remaining_rows}\")"
   ]
  },
  {
   "cell_type": "markdown",
   "metadata": {},
   "source": [
    "#### Checking for Duplicated rows and removing any identified"
   ]
  },
  {
   "cell_type": "code",
   "execution_count": 68,
   "metadata": {
    "scrolled": true
   },
   "outputs": [
    {
     "name": "stdout",
     "output_type": "stream",
     "text": [
      "Number of duplicate rows: 2\n",
      "\n",
      "         id    imdb_id  popularity    budget  revenue original_title  \\\n",
      "2089  42194  tt0411951     0.59643  30000000   967000         TEKKEN   \n",
      "2090  42194  tt0411951     0.59643  30000000   967000         TEKKEN   \n",
      "\n",
      "                                                   cast homepage  \\\n",
      "2089  Jon Foo|Kelly Overton|Cary-Hiroyuki Tagawa|Ian...      NaN   \n",
      "2090  Jon Foo|Kelly Overton|Cary-Hiroyuki Tagawa|Ian...      NaN   \n",
      "\n",
      "              director              tagline  ...  \\\n",
      "2089  Dwight H. Little  Survival is no game  ...   \n",
      "2090  Dwight H. Little  Survival is no game  ...   \n",
      "\n",
      "                                               overview runtime  \\\n",
      "2089  In the year of 2039, after World Wars destroy ...      92   \n",
      "2090  In the year of 2039, after World Wars destroy ...      92   \n",
      "\n",
      "                                           genres    production_companies  \\\n",
      "2089  Crime|Drama|Action|Thriller|Science Fiction  Namco|Light Song Films   \n",
      "2090  Crime|Drama|Action|Thriller|Science Fiction  Namco|Light Song Films   \n",
      "\n",
      "     release_date vote_count  vote_average  release_year  budget_adj  \\\n",
      "2089      3/20/10        110           5.0          2010  30000000.0   \n",
      "2090      3/20/10        110           5.0          2010  30000000.0   \n",
      "\n",
      "      revenue_adj  \n",
      "2089     967000.0  \n",
      "2090     967000.0  \n",
      "\n",
      "[2 rows x 21 columns]\n"
     ]
    }
   ],
   "source": [
    "# Find all duplicated rows (entire row matches another)\n",
    "duplicate_rows = df[df.duplicated(keep=False)]\n",
    "\n",
    "# Display count\n",
    "remaining_rows = {len(duplicate_rows)}\n",
    "print(f\"Number of duplicate rows: {len(duplicate_rows)}\")\n",
    "print()\n",
    "\n",
    "# Preview duplicated entries\n",
    "print(duplicate_rows.head())\n"
   ]
  },
  {
   "cell_type": "code",
   "execution_count": 69,
   "metadata": {},
   "outputs": [
    {
     "name": "stdout",
     "output_type": "stream",
     "text": [
      "Remaining rows: {2}\n"
     ]
    }
   ],
   "source": [
    "# removing identified duplicates\n",
    "df = df.drop_duplicates()\n",
    "\n",
    "# Verifying duplicates are removed\n",
    "duplicate_rows = df[df.duplicated(keep=False)]\n",
    "print(f\"Remaining rows: {remaining_rows}\")\n"
   ]
  },
  {
   "cell_type": "markdown",
   "metadata": {},
   "source": [
    "### Stringified Lists\n",
    "> Columns such as: `cast`, `keywords`, and `genres` contain lists of values in string format.\n",
    "    "
   ]
  },
  {
   "cell_type": "code",
   "execution_count": 70,
   "metadata": {
    "scrolled": false
   },
   "outputs": [
    {
     "data": {
      "text/html": [
       "<div>\n",
       "<style scoped>\n",
       "    .dataframe tbody tr th:only-of-type {\n",
       "        vertical-align: middle;\n",
       "    }\n",
       "\n",
       "    .dataframe tbody tr th {\n",
       "        vertical-align: top;\n",
       "    }\n",
       "\n",
       "    .dataframe thead th {\n",
       "        text-align: right;\n",
       "    }\n",
       "</style>\n",
       "<table border=\"1\" class=\"dataframe\">\n",
       "  <thead>\n",
       "    <tr style=\"text-align: right;\">\n",
       "      <th></th>\n",
       "      <th>cast</th>\n",
       "      <th>keywords</th>\n",
       "      <th>genres</th>\n",
       "    </tr>\n",
       "  </thead>\n",
       "  <tbody>\n",
       "    <tr>\n",
       "      <th>0</th>\n",
       "      <td>Chris Pratt|Bryce Dallas Howard|Irrfan Khan|Vi...</td>\n",
       "      <td>monster|dna|tyrannosaurus rex|velociraptor|island</td>\n",
       "      <td>Action|Adventure|Science Fiction|Thriller</td>\n",
       "    </tr>\n",
       "    <tr>\n",
       "      <th>1</th>\n",
       "      <td>Tom Hardy|Charlize Theron|Hugh Keays-Byrne|Nic...</td>\n",
       "      <td>future|chase|post-apocalyptic|dystopia|australia</td>\n",
       "      <td>Action|Adventure|Science Fiction|Thriller</td>\n",
       "    </tr>\n",
       "    <tr>\n",
       "      <th>2</th>\n",
       "      <td>Shailene Woodley|Theo James|Kate Winslet|Ansel...</td>\n",
       "      <td>based on novel|revolution|dystopia|sequel|dyst...</td>\n",
       "      <td>Adventure|Science Fiction|Thriller</td>\n",
       "    </tr>\n",
       "    <tr>\n",
       "      <th>3</th>\n",
       "      <td>Harrison Ford|Mark Hamill|Carrie Fisher|Adam D...</td>\n",
       "      <td>android|spaceship|jedi|space opera|3d</td>\n",
       "      <td>Action|Adventure|Science Fiction|Fantasy</td>\n",
       "    </tr>\n",
       "    <tr>\n",
       "      <th>4</th>\n",
       "      <td>Vin Diesel|Paul Walker|Jason Statham|Michelle ...</td>\n",
       "      <td>car race|speed|revenge|suspense|car</td>\n",
       "      <td>Action|Crime|Thriller</td>\n",
       "    </tr>\n",
       "    <tr>\n",
       "      <th>...</th>\n",
       "      <td>...</td>\n",
       "      <td>...</td>\n",
       "      <td>...</td>\n",
       "    </tr>\n",
       "    <tr>\n",
       "      <th>10861</th>\n",
       "      <td>Michael Hynson|Robert August|Lord 'Tally Ho' B...</td>\n",
       "      <td>surfer|surfboard|surfing</td>\n",
       "      <td>Documentary</td>\n",
       "    </tr>\n",
       "    <tr>\n",
       "      <th>10862</th>\n",
       "      <td>James Garner|Eva Marie Saint|Yves Montand|Tosh...</td>\n",
       "      <td>car race|racing|formula 1</td>\n",
       "      <td>Action|Adventure|Drama</td>\n",
       "    </tr>\n",
       "    <tr>\n",
       "      <th>10863</th>\n",
       "      <td>Innokentiy Smoktunovskiy|Oleg Efremov|Georgi Z...</td>\n",
       "      <td>car|trolley|stealing car</td>\n",
       "      <td>Mystery|Comedy</td>\n",
       "    </tr>\n",
       "    <tr>\n",
       "      <th>10864</th>\n",
       "      <td>Tatsuya Mihashi|Akiko Wakabayashi|Mie Hama|Joh...</td>\n",
       "      <td>spoof</td>\n",
       "      <td>Action|Comedy</td>\n",
       "    </tr>\n",
       "    <tr>\n",
       "      <th>10865</th>\n",
       "      <td>Harold P. Warren|Tom Neyman|John Reynolds|Dian...</td>\n",
       "      <td>fire|gun|drive|sacrifice|flashlight</td>\n",
       "      <td>Horror</td>\n",
       "    </tr>\n",
       "  </tbody>\n",
       "</table>\n",
       "<p>9367 rows × 3 columns</p>\n",
       "</div>"
      ],
      "text/plain": [
       "                                                    cast  \\\n",
       "0      Chris Pratt|Bryce Dallas Howard|Irrfan Khan|Vi...   \n",
       "1      Tom Hardy|Charlize Theron|Hugh Keays-Byrne|Nic...   \n",
       "2      Shailene Woodley|Theo James|Kate Winslet|Ansel...   \n",
       "3      Harrison Ford|Mark Hamill|Carrie Fisher|Adam D...   \n",
       "4      Vin Diesel|Paul Walker|Jason Statham|Michelle ...   \n",
       "...                                                  ...   \n",
       "10861  Michael Hynson|Robert August|Lord 'Tally Ho' B...   \n",
       "10862  James Garner|Eva Marie Saint|Yves Montand|Tosh...   \n",
       "10863  Innokentiy Smoktunovskiy|Oleg Efremov|Georgi Z...   \n",
       "10864  Tatsuya Mihashi|Akiko Wakabayashi|Mie Hama|Joh...   \n",
       "10865  Harold P. Warren|Tom Neyman|John Reynolds|Dian...   \n",
       "\n",
       "                                                keywords  \\\n",
       "0      monster|dna|tyrannosaurus rex|velociraptor|island   \n",
       "1       future|chase|post-apocalyptic|dystopia|australia   \n",
       "2      based on novel|revolution|dystopia|sequel|dyst...   \n",
       "3                  android|spaceship|jedi|space opera|3d   \n",
       "4                    car race|speed|revenge|suspense|car   \n",
       "...                                                  ...   \n",
       "10861                           surfer|surfboard|surfing   \n",
       "10862                          car race|racing|formula 1   \n",
       "10863                           car|trolley|stealing car   \n",
       "10864                                              spoof   \n",
       "10865                fire|gun|drive|sacrifice|flashlight   \n",
       "\n",
       "                                          genres  \n",
       "0      Action|Adventure|Science Fiction|Thriller  \n",
       "1      Action|Adventure|Science Fiction|Thriller  \n",
       "2             Adventure|Science Fiction|Thriller  \n",
       "3       Action|Adventure|Science Fiction|Fantasy  \n",
       "4                          Action|Crime|Thriller  \n",
       "...                                          ...  \n",
       "10861                                Documentary  \n",
       "10862                     Action|Adventure|Drama  \n",
       "10863                             Mystery|Comedy  \n",
       "10864                              Action|Comedy  \n",
       "10865                                     Horror  \n",
       "\n",
       "[9367 rows x 3 columns]"
      ]
     },
     "execution_count": 70,
     "metadata": {},
     "output_type": "execute_result"
    }
   ],
   "source": [
    "#show the columns with stringified lists\n",
    "df[['cast','keywords','genres']] \n"
   ]
  },
  {
   "cell_type": "markdown",
   "metadata": {},
   "source": [
    "__Converting the strings into lists__"
   ]
  },
  {
   "cell_type": "code",
   "execution_count": 71,
   "metadata": {},
   "outputs": [],
   "source": [
    "# Split keywords strings into lists\n",
    "df['cast_list'] = df['cast'].str.split('|')\n",
    "\n",
    "# Split keywords strings into lists\n",
    "df['keywords_list'] = df['keywords'].str.split('|')\n",
    "\n",
    "# Split genre strings into lists\n",
    "df['genres_list'] = df['genres'].str.split('|')"
   ]
  },
  {
   "cell_type": "markdown",
   "metadata": {},
   "source": [
    "#### Display cast list"
   ]
  },
  {
   "cell_type": "code",
   "execution_count": 72,
   "metadata": {
    "scrolled": true
   },
   "outputs": [
    {
     "data": {
      "text/plain": [
       "0        [Chris Pratt, Bryce Dallas Howard, Irrfan Khan...\n",
       "1        [Tom Hardy, Charlize Theron, Hugh Keays-Byrne,...\n",
       "2        [Shailene Woodley, Theo James, Kate Winslet, A...\n",
       "3        [Harrison Ford, Mark Hamill, Carrie Fisher, Ad...\n",
       "4        [Vin Diesel, Paul Walker, Jason Statham, Miche...\n",
       "                               ...                        \n",
       "10861    [Michael Hynson, Robert August, Lord 'Tally Ho...\n",
       "10862    [James Garner, Eva Marie Saint, Yves Montand, ...\n",
       "10863    [Innokentiy Smoktunovskiy, Oleg Efremov, Georg...\n",
       "10864    [Tatsuya Mihashi, Akiko Wakabayashi, Mie Hama,...\n",
       "10865    [Harold P. Warren, Tom Neyman, John Reynolds, ...\n",
       "Name: cast_list, Length: 9367, dtype: object"
      ]
     },
     "execution_count": 72,
     "metadata": {},
     "output_type": "execute_result"
    }
   ],
   "source": [
    "df['cast_list']"
   ]
  },
  {
   "cell_type": "markdown",
   "metadata": {},
   "source": [
    "#### Display keyword list"
   ]
  },
  {
   "cell_type": "code",
   "execution_count": 73,
   "metadata": {
    "scrolled": true
   },
   "outputs": [
    {
     "data": {
      "text/plain": [
       "0        [monster, dna, tyrannosaurus rex, velociraptor...\n",
       "1        [future, chase, post-apocalyptic, dystopia, au...\n",
       "2        [based on novel, revolution, dystopia, sequel,...\n",
       "3              [android, spaceship, jedi, space opera, 3d]\n",
       "4                [car race, speed, revenge, suspense, car]\n",
       "                               ...                        \n",
       "10861                         [surfer, surfboard, surfing]\n",
       "10862                        [car race, racing, formula 1]\n",
       "10863                         [car, trolley, stealing car]\n",
       "10864                                              [spoof]\n",
       "10865            [fire, gun, drive, sacrifice, flashlight]\n",
       "Name: keywords_list, Length: 9367, dtype: object"
      ]
     },
     "execution_count": 73,
     "metadata": {},
     "output_type": "execute_result"
    }
   ],
   "source": [
    "df['keywords_list']"
   ]
  },
  {
   "cell_type": "markdown",
   "metadata": {},
   "source": [
    "#### Display genres list"
   ]
  },
  {
   "cell_type": "code",
   "execution_count": 74,
   "metadata": {
    "scrolled": true
   },
   "outputs": [
    {
     "data": {
      "text/plain": [
       "0        [Action, Adventure, Science Fiction, Thriller]\n",
       "1        [Action, Adventure, Science Fiction, Thriller]\n",
       "2                [Adventure, Science Fiction, Thriller]\n",
       "3         [Action, Adventure, Science Fiction, Fantasy]\n",
       "4                             [Action, Crime, Thriller]\n",
       "                              ...                      \n",
       "10861                                     [Documentary]\n",
       "10862                        [Action, Adventure, Drama]\n",
       "10863                                 [Mystery, Comedy]\n",
       "10864                                  [Action, Comedy]\n",
       "10865                                          [Horror]\n",
       "Name: genres_list, Length: 9367, dtype: object"
      ]
     },
     "execution_count": 74,
     "metadata": {},
     "output_type": "execute_result"
    }
   ],
   "source": [
    "df['genres_list']"
   ]
  },
  {
   "cell_type": "markdown",
   "metadata": {},
   "source": [
    "__There are outliers in the numeric columns `budget`, `budget_adj`, and `revenue`.__ <br>\n",
    "_The adjusted values also contains many zero's meaning there's incomplete data_"
   ]
  },
  {
   "cell_type": "code",
   "execution_count": 75,
   "metadata": {
    "scrolled": false
   },
   "outputs": [
    {
     "data": {
      "text/html": [
       "<div>\n",
       "<style scoped>\n",
       "    .dataframe tbody tr th:only-of-type {\n",
       "        vertical-align: middle;\n",
       "    }\n",
       "\n",
       "    .dataframe tbody tr th {\n",
       "        vertical-align: top;\n",
       "    }\n",
       "\n",
       "    .dataframe thead th {\n",
       "        text-align: right;\n",
       "    }\n",
       "</style>\n",
       "<table border=\"1\" class=\"dataframe\">\n",
       "  <thead>\n",
       "    <tr style=\"text-align: right;\">\n",
       "      <th></th>\n",
       "      <th>budget</th>\n",
       "      <th>budget_adj</th>\n",
       "      <th>revenue</th>\n",
       "    </tr>\n",
       "  </thead>\n",
       "  <tbody>\n",
       "    <tr>\n",
       "      <th>0</th>\n",
       "      <td>150000000</td>\n",
       "      <td>1.379999e+08</td>\n",
       "      <td>1513528810</td>\n",
       "    </tr>\n",
       "    <tr>\n",
       "      <th>1</th>\n",
       "      <td>150000000</td>\n",
       "      <td>1.379999e+08</td>\n",
       "      <td>378436354</td>\n",
       "    </tr>\n",
       "    <tr>\n",
       "      <th>2</th>\n",
       "      <td>110000000</td>\n",
       "      <td>1.012000e+08</td>\n",
       "      <td>295238201</td>\n",
       "    </tr>\n",
       "    <tr>\n",
       "      <th>3</th>\n",
       "      <td>200000000</td>\n",
       "      <td>1.839999e+08</td>\n",
       "      <td>2068178225</td>\n",
       "    </tr>\n",
       "    <tr>\n",
       "      <th>4</th>\n",
       "      <td>190000000</td>\n",
       "      <td>1.747999e+08</td>\n",
       "      <td>1506249360</td>\n",
       "    </tr>\n",
       "    <tr>\n",
       "      <th>...</th>\n",
       "      <td>...</td>\n",
       "      <td>...</td>\n",
       "      <td>...</td>\n",
       "    </tr>\n",
       "    <tr>\n",
       "      <th>10861</th>\n",
       "      <td>0</td>\n",
       "      <td>0.000000e+00</td>\n",
       "      <td>0</td>\n",
       "    </tr>\n",
       "    <tr>\n",
       "      <th>10862</th>\n",
       "      <td>0</td>\n",
       "      <td>0.000000e+00</td>\n",
       "      <td>0</td>\n",
       "    </tr>\n",
       "    <tr>\n",
       "      <th>10863</th>\n",
       "      <td>0</td>\n",
       "      <td>0.000000e+00</td>\n",
       "      <td>0</td>\n",
       "    </tr>\n",
       "    <tr>\n",
       "      <th>10864</th>\n",
       "      <td>0</td>\n",
       "      <td>0.000000e+00</td>\n",
       "      <td>0</td>\n",
       "    </tr>\n",
       "    <tr>\n",
       "      <th>10865</th>\n",
       "      <td>19000</td>\n",
       "      <td>1.276423e+05</td>\n",
       "      <td>0</td>\n",
       "    </tr>\n",
       "  </tbody>\n",
       "</table>\n",
       "<p>9367 rows × 3 columns</p>\n",
       "</div>"
      ],
      "text/plain": [
       "          budget    budget_adj     revenue\n",
       "0      150000000  1.379999e+08  1513528810\n",
       "1      150000000  1.379999e+08   378436354\n",
       "2      110000000  1.012000e+08   295238201\n",
       "3      200000000  1.839999e+08  2068178225\n",
       "4      190000000  1.747999e+08  1506249360\n",
       "...          ...           ...         ...\n",
       "10861          0  0.000000e+00           0\n",
       "10862          0  0.000000e+00           0\n",
       "10863          0  0.000000e+00           0\n",
       "10864          0  0.000000e+00           0\n",
       "10865      19000  1.276423e+05           0\n",
       "\n",
       "[9367 rows x 3 columns]"
      ]
     },
     "execution_count": 75,
     "metadata": {},
     "output_type": "execute_result"
    }
   ],
   "source": [
    "\n",
    "df[['budget','budget_adj', 'revenue']]"
   ]
  },
  {
   "cell_type": "markdown",
   "metadata": {},
   "source": [
    "__Replacing zeros with NaN and removing them__"
   ]
  },
  {
   "cell_type": "code",
   "execution_count": 76,
   "metadata": {
    "scrolled": true
   },
   "outputs": [
    {
     "name": "stdout",
     "output_type": "stream",
     "text": [
      "Missing values before cleaning:\n",
      " budget         0\n",
      "revenue        0\n",
      "budget_adj     0\n",
      "revenue_adj    0\n",
      "runtime        0\n",
      "dtype: int64\n"
     ]
    }
   ],
   "source": [
    "# Display how many rows have missing numeric values before cleaning\n",
    "key_numeric_cols = ['budget', 'revenue', 'budget_adj', 'revenue_adj', 'runtime']\n",
    "missing_counts = df[key_numeric_cols].isnull().sum()\n",
    "print(\"Missing values before cleaning:\\n\", missing_counts)"
   ]
  },
  {
   "cell_type": "code",
   "execution_count": 77,
   "metadata": {},
   "outputs": [
    {
     "name": "stdout",
     "output_type": "stream",
     "text": [
      "\n",
      "Rows dropped: 5651\n",
      "Remaining rows: 3716\n"
     ]
    }
   ],
   "source": [
    "# Replace zero values in budget and revenue with NaN (common placeholder for missing)\n",
    "df[['budget', 'revenue', 'budget_adj', 'revenue_adj']] = df[\n",
    "    ['budget', 'revenue', 'budget_adj', 'revenue_adj']\n",
    "].replace(0, np.nan)\n",
    "\n",
    "# Drop rows where any of the key numeric columns are NaN\n",
    "df_cleaned = df.dropna(subset=key_numeric_cols)\n",
    "\n",
    "# Show how many rows were dropped\n",
    "rows_dropped = len(df) - len(df_cleaned)\n",
    "print(f\"\\nRows dropped: {rows_dropped}\")\n",
    "print(f\"Remaining rows: {len(df_cleaned)}\")"
   ]
  },
  {
   "cell_type": "markdown",
   "metadata": {},
   "source": [
    "<a id='eda'></a>\n",
    "## Exploratory Data Analysis\n",
    "\n",
    "> **Tip**: Now that you've trimmed and cleaned your data, you're ready to move on to exploration. **Compute statistics** and **create visualizations** with the goal of addressing the research questions that you posed in the Introduction section. You should compute the relevant statistics throughout the analysis when an inference is made about the data. Note that at least two or more kinds of plots should be created as part of the exploration, and you must  compare and show trends in the varied visualizations. Remember to utilize the visualizations that the pandas library already has available.\n",
    "\n",
    "\n",
    "\n",
    "> **Tip**: Investigate the stated question(s) from multiple angles. It is recommended that you be systematic with your approach. Look at one variable at a time, and then follow it up by looking at relationships between variables. You should explore at least three variables in relation to the primary question. This can be an exploratory relationship between three variables of interest, or looking at how two independent variables relate to a single dependent variable of interest. Lastly, you  should perform both single-variable (1d) and multiple-variable (2d) explorations.\n",
    "\n",
    "\n",
    "### Research Question 1 (Which Genres have the most cult classic movies?)"
   ]
  },
  {
   "cell_type": "markdown",
   "metadata": {},
   "source": [
    "__Add the 'Cult Score' Column__"
   ]
  },
  {
   "cell_type": "markdown",
   "metadata": {},
   "source": [
    "_I realized the age of the film affects the formula.  I'm addressing that issue below._"
   ]
  },
  {
   "cell_type": "code",
   "execution_count": 78,
   "metadata": {},
   "outputs": [],
   "source": [
    "df['release_year'] = pd.to_datetime(df['release_date'], errors='coerce').dt.year\n",
    "df['years_since_release'] = 2025 - df['release_year']\n"
   ]
  },
  {
   "cell_type": "code",
   "execution_count": 79,
   "metadata": {},
   "outputs": [],
   "source": [
    "df['cult_score'] = (\n",
    "    df['vote_average']\n",
    "    - (df['vote_count'] / 1000)\n",
    "    - (df['popularity'] / 10)\n",
    "    + (df['years_since_release'] / 10)\n",
    ")\n"
   ]
  },
  {
   "cell_type": "code",
   "execution_count": 80,
   "metadata": {
    "scrolled": true
   },
   "outputs": [
    {
     "data": {
      "text/html": [
       "<div>\n",
       "<style scoped>\n",
       "    .dataframe tbody tr th:only-of-type {\n",
       "        vertical-align: middle;\n",
       "    }\n",
       "\n",
       "    .dataframe tbody tr th {\n",
       "        vertical-align: top;\n",
       "    }\n",
       "\n",
       "    .dataframe thead th {\n",
       "        text-align: right;\n",
       "    }\n",
       "</style>\n",
       "<table border=\"1\" class=\"dataframe\">\n",
       "  <thead>\n",
       "    <tr style=\"text-align: right;\">\n",
       "      <th></th>\n",
       "      <th>original_title</th>\n",
       "      <th>cult_score</th>\n",
       "    </tr>\n",
       "  </thead>\n",
       "  <tbody>\n",
       "    <tr>\n",
       "      <th>8411</th>\n",
       "      <td>Queen - Rock Montreal</td>\n",
       "      <td>12.855709</td>\n",
       "    </tr>\n",
       "    <tr>\n",
       "      <th>10817</th>\n",
       "      <td>The Last Waltz</td>\n",
       "      <td>12.660597</td>\n",
       "    </tr>\n",
       "    <tr>\n",
       "      <th>7948</th>\n",
       "      <td>Stop Making Sense</td>\n",
       "      <td>12.448681</td>\n",
       "    </tr>\n",
       "    <tr>\n",
       "      <th>1385</th>\n",
       "      <td>Emmet Otter's Jug-Band Christmas</td>\n",
       "      <td>12.289754</td>\n",
       "    </tr>\n",
       "    <tr>\n",
       "      <th>9847</th>\n",
       "      <td>Boss Nigger</td>\n",
       "      <td>12.275435</td>\n",
       "    </tr>\n",
       "    <tr>\n",
       "      <th>...</th>\n",
       "      <td>...</td>\n",
       "      <td>...</td>\n",
       "    </tr>\n",
       "    <tr>\n",
       "      <th>7269</th>\n",
       "      <td>The Godfather</td>\n",
       "      <td>-0.943803</td>\n",
       "    </tr>\n",
       "    <tr>\n",
       "      <th>4361</th>\n",
       "      <td>The Avengers</td>\n",
       "      <td>-1.066777</td>\n",
       "    </tr>\n",
       "    <tr>\n",
       "      <th>1919</th>\n",
       "      <td>Inception</td>\n",
       "      <td>-1.303364</td>\n",
       "    </tr>\n",
       "    <tr>\n",
       "      <th>0</th>\n",
       "      <td>Jurassic World</td>\n",
       "      <td>-1.360576</td>\n",
       "    </tr>\n",
       "    <tr>\n",
       "      <th>10865</th>\n",
       "      <td>Manos: The Hands of Fate</td>\n",
       "      <td>-2.618592</td>\n",
       "    </tr>\n",
       "  </tbody>\n",
       "</table>\n",
       "<p>9367 rows × 2 columns</p>\n",
       "</div>"
      ],
      "text/plain": [
       "                         original_title  cult_score\n",
       "8411              Queen - Rock Montreal   12.855709\n",
       "10817                    The Last Waltz   12.660597\n",
       "7948                  Stop Making Sense   12.448681\n",
       "1385   Emmet Otter's Jug-Band Christmas   12.289754\n",
       "9847                        Boss Nigger   12.275435\n",
       "...                                 ...         ...\n",
       "7269                      The Godfather   -0.943803\n",
       "4361                       The Avengers   -1.066777\n",
       "1919                          Inception   -1.303364\n",
       "0                        Jurassic World   -1.360576\n",
       "10865          Manos: The Hands of Fate   -2.618592\n",
       "\n",
       "[9367 rows x 2 columns]"
      ]
     },
     "execution_count": 80,
     "metadata": {},
     "output_type": "execute_result"
    }
   ],
   "source": [
    "df[['original_title', 'cult_score']].sort_values(by='cult_score', ascending=False)"
   ]
  },
  {
   "cell_type": "code",
   "execution_count": 81,
   "metadata": {},
   "outputs": [],
   "source": [
    "# Set Cult Score threshold (top 5%)\n",
    "threshold = df['cult_score'].quantile(0.95)"
   ]
  },
  {
   "cell_type": "code",
   "execution_count": 82,
   "metadata": {
    "scrolled": true
   },
   "outputs": [
    {
     "name": "stdout",
     "output_type": "stream",
     "text": [
      "Cult movie count: 469\n"
     ]
    }
   ],
   "source": [
    "# Filter cult movies and create a clean copy\n",
    "cult_movies = df[df['cult_score'] >= threshold].copy()\n",
    "\n",
    "# Save title + score to CSV for later use\n",
    "cult_movies[['original_title', 'cult_score']].to_csv('cult_score_table.csv', index=False)\n",
    "\n",
    "# Print number of cult films\n",
    "print(f\"Cult movie count: {len(cult_movies)}\")"
   ]
  },
  {
   "cell_type": "code",
   "execution_count": 83,
   "metadata": {},
   "outputs": [],
   "source": [
    "# Ensure genre_list is usable and explode it\n",
    "cult_movies = cult_movies.copy()\n",
    "cult_movies['genres_list'] = cult_movies['genres_list'].astype(str).str.strip(\"[]\").str.replace(\"'\", \"\").str.split(', ')\n",
    "cult_movies_exploded = cult_movies.explode('genres_list')\n"
   ]
  },
  {
   "cell_type": "code",
   "execution_count": 84,
   "metadata": {
    "scrolled": true
   },
   "outputs": [],
   "source": [
    "# Count number of cult movies per genre\n",
    "cult_genre_counts = cult_movies_exploded['genres_list'].value_counts()\n"
   ]
  },
  {
   "cell_type": "code",
   "execution_count": 85,
   "metadata": {
    "scrolled": false
   },
   "outputs": [
    {
     "data": {
      "image/png": "[encoded data removed]",
      "text/plain": [
       "<Figure size 640x480 with 1 Axes>"
      ]
     },
     "metadata": {},
     "output_type": "display_data"
    }
   ],
   "source": [
    "# Display results\n",
    "cult_genre_counts.sort_values().plot.barh(title='Cult Classics by Genre')\n",
    "plt.xlabel('Number of Cult Movies')\n",
    "plt.ylabel('Genre')\n",
    "plt.tight_layout()\n",
    "plt.show()"
   ]
  },
  {
   "cell_type": "markdown",
   "metadata": {},
   "source": [
    "__Since 'Drama' is applied so broadly, I built a genre lift table to compare which genres are overrepresented in Cult Classics relative to the full dataset.__"
   ]
  },
  {
   "cell_type": "code",
   "execution_count": 86,
   "metadata": {},
   "outputs": [
    {
     "data": {
      "text/html": [
       "<div>\n",
       "<style scoped>\n",
       "    .dataframe tbody tr th:only-of-type {\n",
       "        vertical-align: middle;\n",
       "    }\n",
       "\n",
       "    .dataframe tbody tr th {\n",
       "        vertical-align: top;\n",
       "    }\n",
       "\n",
       "    .dataframe thead th {\n",
       "        text-align: right;\n",
       "    }\n",
       "</style>\n",
       "<table border=\"1\" class=\"dataframe\">\n",
       "  <thead>\n",
       "    <tr style=\"text-align: right;\">\n",
       "      <th></th>\n",
       "      <th>full_pct</th>\n",
       "      <th>cult_pct</th>\n",
       "      <th>lift</th>\n",
       "    </tr>\n",
       "  </thead>\n",
       "  <tbody>\n",
       "    <tr>\n",
       "      <th>Music</th>\n",
       "      <td>0.015148</td>\n",
       "      <td>0.036810</td>\n",
       "      <td>2.430065</td>\n",
       "    </tr>\n",
       "    <tr>\n",
       "      <th>History</th>\n",
       "      <td>0.012947</td>\n",
       "      <td>0.025416</td>\n",
       "      <td>1.963036</td>\n",
       "    </tr>\n",
       "    <tr>\n",
       "      <th>War</th>\n",
       "      <td>0.010324</td>\n",
       "      <td>0.017528</td>\n",
       "      <td>1.697820</td>\n",
       "    </tr>\n",
       "    <tr>\n",
       "      <th>Western</th>\n",
       "      <td>0.006601</td>\n",
       "      <td>0.009641</td>\n",
       "      <td>1.460561</td>\n",
       "    </tr>\n",
       "    <tr>\n",
       "      <th>Mystery</th>\n",
       "      <td>0.030888</td>\n",
       "      <td>0.038563</td>\n",
       "      <td>1.248479</td>\n",
       "    </tr>\n",
       "    <tr>\n",
       "      <th>Drama</th>\n",
       "      <td>0.178091</td>\n",
       "      <td>0.206836</td>\n",
       "      <td>1.161408</td>\n",
       "    </tr>\n",
       "    <tr>\n",
       "      <th>Horror</th>\n",
       "      <td>0.059998</td>\n",
       "      <td>0.066608</td>\n",
       "      <td>1.110169</td>\n",
       "    </tr>\n",
       "    <tr>\n",
       "      <th>Crime</th>\n",
       "      <td>0.052467</td>\n",
       "      <td>0.055215</td>\n",
       "      <td>1.052375</td>\n",
       "    </tr>\n",
       "    <tr>\n",
       "      <th>Science Fiction</th>\n",
       "      <td>0.046205</td>\n",
       "      <td>0.045574</td>\n",
       "      <td>0.986353</td>\n",
       "    </tr>\n",
       "    <tr>\n",
       "      <th>Documentary</th>\n",
       "      <td>0.017136</td>\n",
       "      <td>0.016652</td>\n",
       "      <td>0.971740</td>\n",
       "    </tr>\n",
       "  </tbody>\n",
       "</table>\n",
       "</div>"
      ],
      "text/plain": [
       "                 full_pct  cult_pct      lift\n",
       "Music            0.015148  0.036810  2.430065\n",
       "History          0.012947  0.025416  1.963036\n",
       "War              0.010324  0.017528  1.697820\n",
       "Western          0.006601  0.009641  1.460561\n",
       "Mystery          0.030888  0.038563  1.248479\n",
       "Drama            0.178091  0.206836  1.161408\n",
       "Horror           0.059998  0.066608  1.110169\n",
       "Crime            0.052467  0.055215  1.052375\n",
       "Science Fiction  0.046205  0.045574  0.986353\n",
       "Documentary      0.017136  0.016652  0.971740"
      ]
     },
     "execution_count": 86,
     "metadata": {},
     "output_type": "execute_result"
    }
   ],
   "source": [
    "# Count genres in full set\n",
    "df['genres_list'] = df['genres'].str.split('|')\n",
    "df_exploded = df.explode('genres_list')\n",
    "\n",
    "cult_movies['genres_list'] = cult_movies['genres'].str.split('|')\n",
    "cult_movies_exploded = cult_movies.explode('genres_list')\n",
    "\n",
    "full_genre_counts = df_exploded['genres_list'].value_counts(normalize=True)\n",
    "\n",
    "# Count genres in cult set\n",
    "cult_genre_counts = cult_movies_exploded['genres_list'].value_counts(normalize=True)\n",
    "\n",
    "# Merge and calculate lift\n",
    "genre_lift = pd.DataFrame({\n",
    "    'full_pct': full_genre_counts,\n",
    "    'cult_pct': cult_genre_counts\n",
    "})\n",
    "genre_lift['lift'] = genre_lift['cult_pct'] / genre_lift['full_pct']\n",
    "genre_lift = genre_lift.sort_values(by='lift', ascending=False)\n",
    "\n",
    "# Show top lifts\n",
    "genre_lift.head(10)  \n",
    "\n"
   ]
  },
  {
   "cell_type": "markdown",
   "metadata": {},
   "source": [
    "#### Genre Lift Observations\n",
    "\n",
    "- Music shows the strongest lift at 2.43. Even though it’s not a major genre in the full dataset, it's clearly overrepresented among cult films. That suggests musical narratives, concert footage, or artist-driven stories may be getting extra traction with niche audiences.\n",
    "- Historical films have a lift close to 2.0, which is higher than expected based on how often they appear in general. This may point to specific titles that reinterpret real events or carry deeper cultural relevance.\n",
    "- War films come in near 1.70. That could be tied to stylized war dramas or psychologically intense stories that resonate beyond traditional genre boundaries.\n",
    "- Westerns post a lift of 1.46. They’re not dominant overall, but something about unconventional or retro westerns may be helping them stand out in the cult space.\n",
    "- Mystery hits 1.25. That tells me people are gravitating toward stories with unresolved tension, ambiguity, or unusual structure. These elements likely contribute to long-term fan engagement.\n",
    "- Drama lands at 1.16. It’s the most common genre overall, so the modest bump in cult presence is interesting. Maybe certain dramas have just enough edge or depth to appeal to cult audiences without looking like obvious genre picks.\n",
    "- Horror gets a lift of 1.11. It's slightly above average, but not dramatic. That might mean it's already well represented across all films or that cult status in horror depends more on specific subgenres.\n",
    "- Crime sits at 1.05, just above parity. Not surprising, but worth keeping in mind for dark or stylized crime narratives that fly under the radar.\n",
    "- Science Fiction is just under 1.0. That surprised me. It's usually a major player in cult discussions, so it might be a classification issue or a signal that some sci-fi titles are more mainstream than expected.\n",
    "- Documentary films come in just below the baseline at 0.97. They’re consistently represented, but not especially overrepresented in the cult group."
   ]
  },
  {
   "cell_type": "markdown",
   "metadata": {},
   "source": [
    "### Research Question 2  (Which actors appear the most in Cult Classic films?)"
   ]
  },
  {
   "cell_type": "markdown",
   "metadata": {
    "tags": []
   },
   "source": [
    "__Since I set up the threshold previously, I am going to reuse that and explode the actor list__\n"
   ]
  },
  {
   "cell_type": "code",
   "execution_count": 87,
   "metadata": {},
   "outputs": [],
   "source": [
    "# Ensure 'cast_list' column is already parsed\n",
    "cult_movies_exploded = cult_movies.explode('cast_list')"
   ]
  },
  {
   "cell_type": "markdown",
   "metadata": {},
   "source": [
    "__Now I'm going to count the actors appearances in Cult Films__"
   ]
  },
  {
   "cell_type": "code",
   "execution_count": 88,
   "metadata": {
    "scrolled": true
   },
   "outputs": [
    {
     "data": {
      "text/plain": [
       "Gene Hackman          8\n",
       "Robert De Niro        8\n",
       "Clint Eastwood        8\n",
       "Woody Allen           7\n",
       "Donald Pleasence      7\n",
       "Michael Caine         7\n",
       "Jack Warden           6\n",
       "Burgess Meredith      6\n",
       "Dom DeLuise           6\n",
       "Mia Farrow            6\n",
       "Robert Duvall         5\n",
       "Sylvester Stallone    5\n",
       "Meryl Streep          5\n",
       "Sean Connery          5\n",
       "John Travolta         5\n",
       "Robert Carradine      5\n",
       "John Hurt             5\n",
       "Jamie Lee Curtis      5\n",
       "Jessica Lange         5\n",
       "George C. Scott       5\n",
       "Name: cast_list, dtype: int64"
      ]
     },
     "execution_count": 88,
     "metadata": {},
     "output_type": "execute_result"
    }
   ],
   "source": [
    "actor_counts = cult_movies_exploded['cast_list'].value_counts()\n",
    "actor_counts.head(20)"
   ]
  },
  {
   "cell_type": "markdown",
   "metadata": {},
   "source": [
    "__Comparing that count vs the Full Dataset__"
   ]
  },
  {
   "cell_type": "code",
   "execution_count": 89,
   "metadata": {
    "scrolled": true
   },
   "outputs": [
    {
     "data": {
      "text/html": [
       "<div>\n",
       "<style scoped>\n",
       "    .dataframe tbody tr th:only-of-type {\n",
       "        vertical-align: middle;\n",
       "    }\n",
       "\n",
       "    .dataframe tbody tr th {\n",
       "        vertical-align: top;\n",
       "    }\n",
       "\n",
       "    .dataframe thead th {\n",
       "        text-align: right;\n",
       "    }\n",
       "</style>\n",
       "<table border=\"1\" class=\"dataframe\">\n",
       "  <thead>\n",
       "    <tr style=\"text-align: right;\">\n",
       "      <th></th>\n",
       "      <th>full_pct</th>\n",
       "      <th>cult_pct</th>\n",
       "      <th>lift</th>\n",
       "    </tr>\n",
       "  </thead>\n",
       "  <tbody>\n",
       "    <tr>\n",
       "      <th>Therese Giehse</th>\n",
       "      <td>0.000022</td>\n",
       "      <td>0.000439</td>\n",
       "      <td>20.056653</td>\n",
       "    </tr>\n",
       "    <tr>\n",
       "      <th>Jon Cypher</th>\n",
       "      <td>0.000022</td>\n",
       "      <td>0.000439</td>\n",
       "      <td>20.056653</td>\n",
       "    </tr>\n",
       "    <tr>\n",
       "      <th>John Limnidis</th>\n",
       "      <td>0.000022</td>\n",
       "      <td>0.000439</td>\n",
       "      <td>20.056653</td>\n",
       "    </tr>\n",
       "    <tr>\n",
       "      <th>John Lurie</th>\n",
       "      <td>0.000044</td>\n",
       "      <td>0.000878</td>\n",
       "      <td>20.056653</td>\n",
       "    </tr>\n",
       "    <tr>\n",
       "      <th>John Matshikiza</th>\n",
       "      <td>0.000022</td>\n",
       "      <td>0.000439</td>\n",
       "      <td>20.056653</td>\n",
       "    </tr>\n",
       "    <tr>\n",
       "      <th>John Milius</th>\n",
       "      <td>0.000022</td>\n",
       "      <td>0.000439</td>\n",
       "      <td>20.056653</td>\n",
       "    </tr>\n",
       "    <tr>\n",
       "      <th>John Mitchum</th>\n",
       "      <td>0.000022</td>\n",
       "      <td>0.000439</td>\n",
       "      <td>20.056653</td>\n",
       "    </tr>\n",
       "    <tr>\n",
       "      <th>John Philbin</th>\n",
       "      <td>0.000022</td>\n",
       "      <td>0.000439</td>\n",
       "      <td>20.056653</td>\n",
       "    </tr>\n",
       "    <tr>\n",
       "      <th>John Steadman</th>\n",
       "      <td>0.000022</td>\n",
       "      <td>0.000439</td>\n",
       "      <td>20.056653</td>\n",
       "    </tr>\n",
       "    <tr>\n",
       "      <th>John Thaw</th>\n",
       "      <td>0.000022</td>\n",
       "      <td>0.000439</td>\n",
       "      <td>20.056653</td>\n",
       "    </tr>\n",
       "    <tr>\n",
       "      <th>Johnny Sekka</th>\n",
       "      <td>0.000022</td>\n",
       "      <td>0.000439</td>\n",
       "      <td>20.056653</td>\n",
       "    </tr>\n",
       "    <tr>\n",
       "      <th>Jon Carin</th>\n",
       "      <td>0.000022</td>\n",
       "      <td>0.000439</td>\n",
       "      <td>20.056653</td>\n",
       "    </tr>\n",
       "    <tr>\n",
       "      <th>Jon Cedar</th>\n",
       "      <td>0.000022</td>\n",
       "      <td>0.000439</td>\n",
       "      <td>20.056653</td>\n",
       "    </tr>\n",
       "    <tr>\n",
       "      <th>Jon Chardiet</th>\n",
       "      <td>0.000022</td>\n",
       "      <td>0.000439</td>\n",
       "      <td>20.056653</td>\n",
       "    </tr>\n",
       "    <tr>\n",
       "      <th>Jon Van Ness</th>\n",
       "      <td>0.000022</td>\n",
       "      <td>0.000439</td>\n",
       "      <td>20.056653</td>\n",
       "    </tr>\n",
       "    <tr>\n",
       "      <th>John Harkins</th>\n",
       "      <td>0.000022</td>\n",
       "      <td>0.000439</td>\n",
       "      <td>20.056653</td>\n",
       "    </tr>\n",
       "    <tr>\n",
       "      <th>Jonas Abry</th>\n",
       "      <td>0.000022</td>\n",
       "      <td>0.000439</td>\n",
       "      <td>20.056653</td>\n",
       "    </tr>\n",
       "    <tr>\n",
       "      <th>Jonathan Scott-Taylor</th>\n",
       "      <td>0.000022</td>\n",
       "      <td>0.000439</td>\n",
       "      <td>20.056653</td>\n",
       "    </tr>\n",
       "    <tr>\n",
       "      <th>Joseph Cali</th>\n",
       "      <td>0.000022</td>\n",
       "      <td>0.000439</td>\n",
       "      <td>20.056653</td>\n",
       "    </tr>\n",
       "    <tr>\n",
       "      <th>Joseph Pilato</th>\n",
       "      <td>0.000022</td>\n",
       "      <td>0.000439</td>\n",
       "      <td>20.056653</td>\n",
       "    </tr>\n",
       "    <tr>\n",
       "      <th>Judith Baldwin</th>\n",
       "      <td>0.000022</td>\n",
       "      <td>0.000439</td>\n",
       "      <td>20.056653</td>\n",
       "    </tr>\n",
       "    <tr>\n",
       "      <th>Judith Roberts</th>\n",
       "      <td>0.000022</td>\n",
       "      <td>0.000439</td>\n",
       "      <td>20.056653</td>\n",
       "    </tr>\n",
       "    <tr>\n",
       "      <th>Julia Blake</th>\n",
       "      <td>0.000022</td>\n",
       "      <td>0.000439</td>\n",
       "      <td>20.056653</td>\n",
       "    </tr>\n",
       "    <tr>\n",
       "      <th>Julian Firth</th>\n",
       "      <td>0.000022</td>\n",
       "      <td>0.000439</td>\n",
       "      <td>20.056653</td>\n",
       "    </tr>\n",
       "    <tr>\n",
       "      <th>Julie Carmen</th>\n",
       "      <td>0.000022</td>\n",
       "      <td>0.000439</td>\n",
       "      <td>20.056653</td>\n",
       "    </tr>\n",
       "    <tr>\n",
       "      <th>Julie Sommars</th>\n",
       "      <td>0.000022</td>\n",
       "      <td>0.000439</td>\n",
       "      <td>20.056653</td>\n",
       "    </tr>\n",
       "    <tr>\n",
       "      <th>Julius Carry</th>\n",
       "      <td>0.000022</td>\n",
       "      <td>0.000439</td>\n",
       "      <td>20.056653</td>\n",
       "    </tr>\n",
       "    <tr>\n",
       "      <th>Justin Henry</th>\n",
       "      <td>0.000044</td>\n",
       "      <td>0.000878</td>\n",
       "      <td>20.056653</td>\n",
       "    </tr>\n",
       "    <tr>\n",
       "      <th>John Ley</th>\n",
       "      <td>0.000022</td>\n",
       "      <td>0.000439</td>\n",
       "      <td>20.056653</td>\n",
       "    </tr>\n",
       "    <tr>\n",
       "      <th>John Hargreaves</th>\n",
       "      <td>0.000022</td>\n",
       "      <td>0.000439</td>\n",
       "      <td>20.056653</td>\n",
       "    </tr>\n",
       "    <tr>\n",
       "      <th>Jessie Miskelly</th>\n",
       "      <td>0.000022</td>\n",
       "      <td>0.000439</td>\n",
       "      <td>20.056653</td>\n",
       "    </tr>\n",
       "    <tr>\n",
       "      <th>Joe Silver</th>\n",
       "      <td>0.000044</td>\n",
       "      <td>0.000878</td>\n",
       "      <td>20.056653</td>\n",
       "    </tr>\n",
       "    <tr>\n",
       "      <th>Jill Schoelen</th>\n",
       "      <td>0.000022</td>\n",
       "      <td>0.000439</td>\n",
       "      <td>20.056653</td>\n",
       "    </tr>\n",
       "    <tr>\n",
       "      <th>Jill Townsend</th>\n",
       "      <td>0.000022</td>\n",
       "      <td>0.000439</td>\n",
       "      <td>20.056653</td>\n",
       "    </tr>\n",
       "    <tr>\n",
       "      <th>Jill Whitlow</th>\n",
       "      <td>0.000022</td>\n",
       "      <td>0.000439</td>\n",
       "      <td>20.056653</td>\n",
       "    </tr>\n",
       "    <tr>\n",
       "      <th>Jim Citty</th>\n",
       "      <td>0.000022</td>\n",
       "      <td>0.000439</td>\n",
       "      <td>20.056653</td>\n",
       "    </tr>\n",
       "    <tr>\n",
       "      <th>Jim Lovell</th>\n",
       "      <td>0.000022</td>\n",
       "      <td>0.000439</td>\n",
       "      <td>20.056653</td>\n",
       "    </tr>\n",
       "    <tr>\n",
       "      <th>Jim Storm</th>\n",
       "      <td>0.000022</td>\n",
       "      <td>0.000439</td>\n",
       "      <td>20.056653</td>\n",
       "    </tr>\n",
       "    <tr>\n",
       "      <th>Jimmy Clem</th>\n",
       "      <td>0.000022</td>\n",
       "      <td>0.000439</td>\n",
       "      <td>20.056653</td>\n",
       "    </tr>\n",
       "    <tr>\n",
       "      <th>Joan Blondell</th>\n",
       "      <td>0.000022</td>\n",
       "      <td>0.000439</td>\n",
       "      <td>20.056653</td>\n",
       "    </tr>\n",
       "    <tr>\n",
       "      <th>Jocelyn Jones</th>\n",
       "      <td>0.000022</td>\n",
       "      <td>0.000439</td>\n",
       "      <td>20.056653</td>\n",
       "    </tr>\n",
       "    <tr>\n",
       "      <th>Joe Berlinger</th>\n",
       "      <td>0.000022</td>\n",
       "      <td>0.000439</td>\n",
       "      <td>20.056653</td>\n",
       "    </tr>\n",
       "    <tr>\n",
       "      <th>Joe Flaherty</th>\n",
       "      <td>0.000022</td>\n",
       "      <td>0.000439</td>\n",
       "      <td>20.056653</td>\n",
       "    </tr>\n",
       "    <tr>\n",
       "      <th>Joe Rubbo</th>\n",
       "      <td>0.000022</td>\n",
       "      <td>0.000439</td>\n",
       "      <td>20.056653</td>\n",
       "    </tr>\n",
       "    <tr>\n",
       "      <th>John Adames</th>\n",
       "      <td>0.000022</td>\n",
       "      <td>0.000439</td>\n",
       "      <td>20.056653</td>\n",
       "    </tr>\n",
       "    <tr>\n",
       "      <th>John Halsey</th>\n",
       "      <td>0.000022</td>\n",
       "      <td>0.000439</td>\n",
       "      <td>20.056653</td>\n",
       "    </tr>\n",
       "    <tr>\n",
       "      <th>John Amplas</th>\n",
       "      <td>0.000022</td>\n",
       "      <td>0.000439</td>\n",
       "      <td>20.056653</td>\n",
       "    </tr>\n",
       "    <tr>\n",
       "      <th>John Bennett</th>\n",
       "      <td>0.000022</td>\n",
       "      <td>0.000439</td>\n",
       "      <td>20.056653</td>\n",
       "    </tr>\n",
       "    <tr>\n",
       "      <th>John Blundell</th>\n",
       "      <td>0.000022</td>\n",
       "      <td>0.000439</td>\n",
       "      <td>20.056653</td>\n",
       "    </tr>\n",
       "    <tr>\n",
       "      <th>John Bonham</th>\n",
       "      <td>0.000022</td>\n",
       "      <td>0.000439</td>\n",
       "      <td>20.056653</td>\n",
       "    </tr>\n",
       "  </tbody>\n",
       "</table>\n",
       "</div>"
      ],
      "text/plain": [
       "                       full_pct  cult_pct       lift\n",
       " Therese Giehse        0.000022  0.000439  20.056653\n",
       "Jon Cypher             0.000022  0.000439  20.056653\n",
       "John Limnidis          0.000022  0.000439  20.056653\n",
       "John Lurie             0.000044  0.000878  20.056653\n",
       "John Matshikiza        0.000022  0.000439  20.056653\n",
       "John Milius            0.000022  0.000439  20.056653\n",
       "John Mitchum           0.000022  0.000439  20.056653\n",
       "John Philbin           0.000022  0.000439  20.056653\n",
       "John Steadman          0.000022  0.000439  20.056653\n",
       "John Thaw              0.000022  0.000439  20.056653\n",
       "Johnny Sekka           0.000022  0.000439  20.056653\n",
       "Jon Carin              0.000022  0.000439  20.056653\n",
       "Jon Cedar              0.000022  0.000439  20.056653\n",
       "Jon Chardiet           0.000022  0.000439  20.056653\n",
       "Jon Van Ness           0.000022  0.000439  20.056653\n",
       "John Harkins           0.000022  0.000439  20.056653\n",
       "Jonas Abry             0.000022  0.000439  20.056653\n",
       "Jonathan Scott-Taylor  0.000022  0.000439  20.056653\n",
       "Joseph Cali            0.000022  0.000439  20.056653\n",
       "Joseph Pilato          0.000022  0.000439  20.056653\n",
       "Judith Baldwin         0.000022  0.000439  20.056653\n",
       "Judith Roberts         0.000022  0.000439  20.056653\n",
       "Julia Blake            0.000022  0.000439  20.056653\n",
       "Julian Firth           0.000022  0.000439  20.056653\n",
       "Julie Carmen           0.000022  0.000439  20.056653\n",
       "Julie Sommars          0.000022  0.000439  20.056653\n",
       "Julius Carry           0.000022  0.000439  20.056653\n",
       "Justin Henry           0.000044  0.000878  20.056653\n",
       "John Ley               0.000022  0.000439  20.056653\n",
       "John Hargreaves        0.000022  0.000439  20.056653\n",
       "Jessie Miskelly        0.000022  0.000439  20.056653\n",
       "Joe Silver             0.000044  0.000878  20.056653\n",
       "Jill Schoelen          0.000022  0.000439  20.056653\n",
       "Jill Townsend          0.000022  0.000439  20.056653\n",
       "Jill Whitlow           0.000022  0.000439  20.056653\n",
       "Jim Citty              0.000022  0.000439  20.056653\n",
       "Jim Lovell             0.000022  0.000439  20.056653\n",
       "Jim Storm              0.000022  0.000439  20.056653\n",
       "Jimmy Clem             0.000022  0.000439  20.056653\n",
       "Joan Blondell          0.000022  0.000439  20.056653\n",
       "Jocelyn Jones          0.000022  0.000439  20.056653\n",
       "Joe Berlinger          0.000022  0.000439  20.056653\n",
       "Joe Flaherty           0.000022  0.000439  20.056653\n",
       "Joe Rubbo              0.000022  0.000439  20.056653\n",
       "John Adames            0.000022  0.000439  20.056653\n",
       "John Halsey            0.000022  0.000439  20.056653\n",
       "John Amplas            0.000022  0.000439  20.056653\n",
       "John Bennett           0.000022  0.000439  20.056653\n",
       "John Blundell          0.000022  0.000439  20.056653\n",
       "John Bonham            0.000022  0.000439  20.056653"
      ]
     },
     "execution_count": 89,
     "metadata": {},
     "output_type": "execute_result"
    }
   ],
   "source": [
    "# Explode full dataset for normalization\n",
    "df_exploded = df.explode('cast_list')\n",
    "\n",
    "# Actor proportions in full dataset\n",
    "full_actor_pct = df_exploded['cast_list'].value_counts(normalize=True)\n",
    "\n",
    "# Actor proportions in cult dataset\n",
    "cult_actor_pct = cult_movies_exploded['cast_list'].value_counts(normalize=True)\n",
    "\n",
    "# Create a lift table containing pct scores for full and cult datasets\n",
    "actor_lift = pd.DataFrame({\n",
    "    'full_pct': full_actor_pct,\n",
    "    'cult_pct': cult_actor_pct\n",
    "})\n",
    "\n",
    "#Calculate and display full and cult pct per actor sorted by lift value\n",
    "actor_lift['lift'] = actor_lift['cult_pct'] / actor_lift['full_pct']\n",
    "actor_lift = actor_lift.sort_values(by='lift', ascending=False)\n",
    "\n",
    "actor_lift.head(50)\n"
   ]
  },
  {
   "cell_type": "markdown",
   "metadata": {},
   "source": [
    "__I noticed that there were a lot of actors with the same lift value, so I dug into what I might have done wrong with the lift.__<br>\n",
    "_I hypothesised that there were actors that had high scores due to low frequency. I decided to see if that was true._"
   ]
  },
  {
   "cell_type": "code",
   "execution_count": 90,
   "metadata": {
    "scrolled": false
   },
   "outputs": [
    {
     "data": {
      "text/html": [
       "<div>\n",
       "<style scoped>\n",
       "    .dataframe tbody tr th:only-of-type {\n",
       "        vertical-align: middle;\n",
       "    }\n",
       "\n",
       "    .dataframe tbody tr th {\n",
       "        vertical-align: top;\n",
       "    }\n",
       "\n",
       "    .dataframe thead th {\n",
       "        text-align: right;\n",
       "    }\n",
       "</style>\n",
       "<table border=\"1\" class=\"dataframe\">\n",
       "  <thead>\n",
       "    <tr style=\"text-align: right;\">\n",
       "      <th></th>\n",
       "      <th>full_pct</th>\n",
       "      <th>cult_pct</th>\n",
       "      <th>lift</th>\n",
       "      <th>full_count</th>\n",
       "      <th>cult_count</th>\n",
       "    </tr>\n",
       "  </thead>\n",
       "  <tbody>\n",
       "    <tr>\n",
       "      <th>Therese Giehse</th>\n",
       "      <td>0.000022</td>\n",
       "      <td>0.000439</td>\n",
       "      <td>20.056653</td>\n",
       "      <td>1</td>\n",
       "      <td>1.0</td>\n",
       "    </tr>\n",
       "    <tr>\n",
       "      <th>Ricky Fataar</th>\n",
       "      <td>0.000022</td>\n",
       "      <td>0.000439</td>\n",
       "      <td>20.056653</td>\n",
       "      <td>1</td>\n",
       "      <td>1.0</td>\n",
       "    </tr>\n",
       "    <tr>\n",
       "      <th>Robbie Robertson</th>\n",
       "      <td>0.000022</td>\n",
       "      <td>0.000439</td>\n",
       "      <td>20.056653</td>\n",
       "      <td>1</td>\n",
       "      <td>1.0</td>\n",
       "    </tr>\n",
       "    <tr>\n",
       "      <th>Peter Boyden</th>\n",
       "      <td>0.000022</td>\n",
       "      <td>0.000439</td>\n",
       "      <td>20.056653</td>\n",
       "      <td>1</td>\n",
       "      <td>1.0</td>\n",
       "    </tr>\n",
       "    <tr>\n",
       "      <th>Peter Billingsley</th>\n",
       "      <td>0.000022</td>\n",
       "      <td>0.000439</td>\n",
       "      <td>20.056653</td>\n",
       "      <td>1</td>\n",
       "      <td>1.0</td>\n",
       "    </tr>\n",
       "    <tr>\n",
       "      <th>Peter Arne</th>\n",
       "      <td>0.000022</td>\n",
       "      <td>0.000439</td>\n",
       "      <td>20.056653</td>\n",
       "      <td>1</td>\n",
       "      <td>1.0</td>\n",
       "    </tr>\n",
       "    <tr>\n",
       "      <th>Perry King</th>\n",
       "      <td>0.000022</td>\n",
       "      <td>0.000439</td>\n",
       "      <td>20.056653</td>\n",
       "      <td>1</td>\n",
       "      <td>1.0</td>\n",
       "    </tr>\n",
       "    <tr>\n",
       "      <th>Oliver Clark</th>\n",
       "      <td>0.000022</td>\n",
       "      <td>0.000439</td>\n",
       "      <td>20.056653</td>\n",
       "      <td>1</td>\n",
       "      <td>1.0</td>\n",
       "    </tr>\n",
       "    <tr>\n",
       "      <th>Jon Cypher</th>\n",
       "      <td>0.000022</td>\n",
       "      <td>0.000439</td>\n",
       "      <td>20.056653</td>\n",
       "      <td>1</td>\n",
       "      <td>1.0</td>\n",
       "    </tr>\n",
       "    <tr>\n",
       "      <th>Otto Preminger</th>\n",
       "      <td>0.000022</td>\n",
       "      <td>0.000439</td>\n",
       "      <td>20.056653</td>\n",
       "      <td>1</td>\n",
       "      <td>1.0</td>\n",
       "    </tr>\n",
       "    <tr>\n",
       "      <th>Ozzy Osbourne</th>\n",
       "      <td>0.000022</td>\n",
       "      <td>0.000439</td>\n",
       "      <td>20.056653</td>\n",
       "      <td>1</td>\n",
       "      <td>1.0</td>\n",
       "    </tr>\n",
       "    <tr>\n",
       "      <th>Pat Corley</th>\n",
       "      <td>0.000022</td>\n",
       "      <td>0.000439</td>\n",
       "      <td>20.056653</td>\n",
       "      <td>1</td>\n",
       "      <td>1.0</td>\n",
       "    </tr>\n",
       "    <tr>\n",
       "      <th>Patricia Gage</th>\n",
       "      <td>0.000022</td>\n",
       "      <td>0.000439</td>\n",
       "      <td>20.056653</td>\n",
       "      <td>1</td>\n",
       "      <td>1.0</td>\n",
       "    </tr>\n",
       "    <tr>\n",
       "      <th>Patricia Hamilton</th>\n",
       "      <td>0.000022</td>\n",
       "      <td>0.000439</td>\n",
       "      <td>20.056653</td>\n",
       "      <td>1</td>\n",
       "      <td>1.0</td>\n",
       "    </tr>\n",
       "    <tr>\n",
       "      <th>Patricia Quinn</th>\n",
       "      <td>0.000022</td>\n",
       "      <td>0.000439</td>\n",
       "      <td>20.056653</td>\n",
       "      <td>1</td>\n",
       "      <td>1.0</td>\n",
       "    </tr>\n",
       "    <tr>\n",
       "      <th>Patrick Drury</th>\n",
       "      <td>0.000022</td>\n",
       "      <td>0.000439</td>\n",
       "      <td>20.056653</td>\n",
       "      <td>1</td>\n",
       "      <td>1.0</td>\n",
       "    </tr>\n",
       "    <tr>\n",
       "      <th>Patrick Horgan</th>\n",
       "      <td>0.000022</td>\n",
       "      <td>0.000439</td>\n",
       "      <td>20.056653</td>\n",
       "      <td>1</td>\n",
       "      <td>1.0</td>\n",
       "    </tr>\n",
       "    <tr>\n",
       "      <th>Patti D'Arbanville</th>\n",
       "      <td>0.000022</td>\n",
       "      <td>0.000439</td>\n",
       "      <td>20.056653</td>\n",
       "      <td>1</td>\n",
       "      <td>1.0</td>\n",
       "    </tr>\n",
       "    <tr>\n",
       "      <th>Paul Chun Pui</th>\n",
       "      <td>0.000022</td>\n",
       "      <td>0.000439</td>\n",
       "      <td>20.056653</td>\n",
       "      <td>1</td>\n",
       "      <td>1.0</td>\n",
       "    </tr>\n",
       "    <tr>\n",
       "      <th>Rita Karin</th>\n",
       "      <td>0.000022</td>\n",
       "      <td>0.000439</td>\n",
       "      <td>20.056653</td>\n",
       "      <td>1</td>\n",
       "      <td>1.0</td>\n",
       "    </tr>\n",
       "  </tbody>\n",
       "</table>\n",
       "</div>"
      ],
      "text/plain": [
       "                    full_pct  cult_pct       lift  full_count  cult_count\n",
       " Therese Giehse     0.000022  0.000439  20.056653           1         1.0\n",
       "Ricky Fataar        0.000022  0.000439  20.056653           1         1.0\n",
       "Robbie Robertson    0.000022  0.000439  20.056653           1         1.0\n",
       "Peter Boyden        0.000022  0.000439  20.056653           1         1.0\n",
       "Peter Billingsley   0.000022  0.000439  20.056653           1         1.0\n",
       "Peter Arne          0.000022  0.000439  20.056653           1         1.0\n",
       "Perry King          0.000022  0.000439  20.056653           1         1.0\n",
       "Oliver Clark        0.000022  0.000439  20.056653           1         1.0\n",
       "Jon Cypher          0.000022  0.000439  20.056653           1         1.0\n",
       "Otto Preminger      0.000022  0.000439  20.056653           1         1.0\n",
       "Ozzy Osbourne       0.000022  0.000439  20.056653           1         1.0\n",
       "Pat Corley          0.000022  0.000439  20.056653           1         1.0\n",
       "Patricia Gage       0.000022  0.000439  20.056653           1         1.0\n",
       "Patricia Hamilton   0.000022  0.000439  20.056653           1         1.0\n",
       "Patricia Quinn      0.000022  0.000439  20.056653           1         1.0\n",
       "Patrick Drury       0.000022  0.000439  20.056653           1         1.0\n",
       "Patrick Horgan      0.000022  0.000439  20.056653           1         1.0\n",
       "Patti D'Arbanville  0.000022  0.000439  20.056653           1         1.0\n",
       "Paul Chun Pui       0.000022  0.000439  20.056653           1         1.0\n",
       "Rita Karin          0.000022  0.000439  20.056653           1         1.0"
      ]
     },
     "execution_count": 90,
     "metadata": {},
     "output_type": "execute_result"
    }
   ],
   "source": [
    "# Combine raw counts and percentages for both datasets\n",
    "full_actor_counts = df_exploded['cast_list'].value_counts()\n",
    "cult_actor_counts = cult_movies_exploded['cast_list'].value_counts()\n",
    "\n",
    "# Merge lift with raw counts\n",
    "actor_lift_debug = actor_lift.copy()\n",
    "actor_lift_debug['full_count'] = actor_lift_debug.index.map(full_actor_counts)\n",
    "actor_lift_debug['cult_count'] = actor_lift_debug.index.map(cult_actor_counts)\n",
    "\n",
    "# Flag actors with low frequency but high lift\n",
    "suspicious_actors = actor_lift_debug[\n",
    "    (actor_lift_debug['lift'] > 10) &\n",
    "    ((actor_lift_debug['full_count'] <= 2) | (actor_lift_debug['cult_count'] <= 2))\n",
    "]\n",
    "\n",
    "suspicious_actors.sort_values(by='lift', ascending=False).head(20)\n"
   ]
  },
  {
   "cell_type": "markdown",
   "metadata": {},
   "source": [
    "__I decided to remove these actors to clean up the list__"
   ]
  },
  {
   "cell_type": "code",
   "execution_count": 91,
   "metadata": {
    "scrolled": false
   },
   "outputs": [
    {
     "data": {
      "text/html": [
       "<div>\n",
       "<style scoped>\n",
       "    .dataframe tbody tr th:only-of-type {\n",
       "        vertical-align: middle;\n",
       "    }\n",
       "\n",
       "    .dataframe tbody tr th {\n",
       "        vertical-align: top;\n",
       "    }\n",
       "\n",
       "    .dataframe thead th {\n",
       "        text-align: right;\n",
       "    }\n",
       "</style>\n",
       "<table border=\"1\" class=\"dataframe\">\n",
       "  <thead>\n",
       "    <tr style=\"text-align: right;\">\n",
       "      <th></th>\n",
       "      <th>full_pct</th>\n",
       "      <th>cult_pct</th>\n",
       "      <th>lift</th>\n",
       "      <th>full_count</th>\n",
       "      <th>cult_count</th>\n",
       "    </tr>\n",
       "  </thead>\n",
       "  <tbody>\n",
       "    <tr>\n",
       "      <th>P.J. Soles</th>\n",
       "      <td>0.000066</td>\n",
       "      <td>0.001318</td>\n",
       "      <td>20.056653</td>\n",
       "      <td>3</td>\n",
       "      <td>3.0</td>\n",
       "    </tr>\n",
       "    <tr>\n",
       "      <th>Melinda Dillon</th>\n",
       "      <td>0.000088</td>\n",
       "      <td>0.001318</td>\n",
       "      <td>15.042490</td>\n",
       "      <td>4</td>\n",
       "      <td>3.0</td>\n",
       "    </tr>\n",
       "    <tr>\n",
       "      <th>John Houseman</th>\n",
       "      <td>0.000088</td>\n",
       "      <td>0.001318</td>\n",
       "      <td>15.042490</td>\n",
       "      <td>4</td>\n",
       "      <td>3.0</td>\n",
       "    </tr>\n",
       "    <tr>\n",
       "      <th>Richard Dysart</th>\n",
       "      <td>0.000088</td>\n",
       "      <td>0.001318</td>\n",
       "      <td>15.042490</td>\n",
       "      <td>4</td>\n",
       "      <td>3.0</td>\n",
       "    </tr>\n",
       "    <tr>\n",
       "      <th>Teri Garr</th>\n",
       "      <td>0.000131</td>\n",
       "      <td>0.001757</td>\n",
       "      <td>13.371102</td>\n",
       "      <td>6</td>\n",
       "      <td>4.0</td>\n",
       "    </tr>\n",
       "    <tr>\n",
       "      <th>Sondra Locke</th>\n",
       "      <td>0.000131</td>\n",
       "      <td>0.001757</td>\n",
       "      <td>13.371102</td>\n",
       "      <td>6</td>\n",
       "      <td>4.0</td>\n",
       "    </tr>\n",
       "    <tr>\n",
       "      <th>Bill McKinney</th>\n",
       "      <td>0.000131</td>\n",
       "      <td>0.001757</td>\n",
       "      <td>13.371102</td>\n",
       "      <td>6</td>\n",
       "      <td>4.0</td>\n",
       "    </tr>\n",
       "    <tr>\n",
       "      <th>R. G. Armstrong</th>\n",
       "      <td>0.000131</td>\n",
       "      <td>0.001757</td>\n",
       "      <td>13.371102</td>\n",
       "      <td>6</td>\n",
       "      <td>4.0</td>\n",
       "    </tr>\n",
       "    <tr>\n",
       "      <th>Dabney Coleman</th>\n",
       "      <td>0.000175</td>\n",
       "      <td>0.002196</td>\n",
       "      <td>12.535408</td>\n",
       "      <td>8</td>\n",
       "      <td>5.0</td>\n",
       "    </tr>\n",
       "    <tr>\n",
       "      <th>Richard Jordan</th>\n",
       "      <td>0.000109</td>\n",
       "      <td>0.001318</td>\n",
       "      <td>12.033992</td>\n",
       "      <td>5</td>\n",
       "      <td>3.0</td>\n",
       "    </tr>\n",
       "    <tr>\n",
       "      <th>Michael Palin</th>\n",
       "      <td>0.000109</td>\n",
       "      <td>0.001318</td>\n",
       "      <td>12.033992</td>\n",
       "      <td>5</td>\n",
       "      <td>3.0</td>\n",
       "    </tr>\n",
       "    <tr>\n",
       "      <th>Keith Carradine</th>\n",
       "      <td>0.000109</td>\n",
       "      <td>0.001318</td>\n",
       "      <td>12.033992</td>\n",
       "      <td>5</td>\n",
       "      <td>3.0</td>\n",
       "    </tr>\n",
       "    <tr>\n",
       "      <th>William Devane</th>\n",
       "      <td>0.000109</td>\n",
       "      <td>0.001318</td>\n",
       "      <td>12.033992</td>\n",
       "      <td>5</td>\n",
       "      <td>3.0</td>\n",
       "    </tr>\n",
       "    <tr>\n",
       "      <th>Susannah York</th>\n",
       "      <td>0.000109</td>\n",
       "      <td>0.001318</td>\n",
       "      <td>12.033992</td>\n",
       "      <td>5</td>\n",
       "      <td>3.0</td>\n",
       "    </tr>\n",
       "    <tr>\n",
       "      <th>Griffin Dunne</th>\n",
       "      <td>0.000109</td>\n",
       "      <td>0.001318</td>\n",
       "      <td>12.033992</td>\n",
       "      <td>5</td>\n",
       "      <td>3.0</td>\n",
       "    </tr>\n",
       "    <tr>\n",
       "      <th>Brooke Adams</th>\n",
       "      <td>0.000109</td>\n",
       "      <td>0.001318</td>\n",
       "      <td>12.033992</td>\n",
       "      <td>5</td>\n",
       "      <td>3.0</td>\n",
       "    </tr>\n",
       "    <tr>\n",
       "      <th>Tommy Chong</th>\n",
       "      <td>0.000153</td>\n",
       "      <td>0.001757</td>\n",
       "      <td>11.460945</td>\n",
       "      <td>7</td>\n",
       "      <td>4.0</td>\n",
       "    </tr>\n",
       "    <tr>\n",
       "      <th>Jenny Agutter</th>\n",
       "      <td>0.000153</td>\n",
       "      <td>0.001757</td>\n",
       "      <td>11.460945</td>\n",
       "      <td>7</td>\n",
       "      <td>4.0</td>\n",
       "    </tr>\n",
       "    <tr>\n",
       "      <th>Robert Carradine</th>\n",
       "      <td>0.000197</td>\n",
       "      <td>0.002196</td>\n",
       "      <td>11.142585</td>\n",
       "      <td>9</td>\n",
       "      <td>5.0</td>\n",
       "    </tr>\n",
       "    <tr>\n",
       "      <th>Bradford Dillman</th>\n",
       "      <td>0.000131</td>\n",
       "      <td>0.001318</td>\n",
       "      <td>10.028327</td>\n",
       "      <td>6</td>\n",
       "      <td>3.0</td>\n",
       "    </tr>\n",
       "  </tbody>\n",
       "</table>\n",
       "</div>"
      ],
      "text/plain": [
       "                  full_pct  cult_pct       lift  full_count  cult_count\n",
       "P.J. Soles        0.000066  0.001318  20.056653           3         3.0\n",
       "Melinda Dillon    0.000088  0.001318  15.042490           4         3.0\n",
       "John Houseman     0.000088  0.001318  15.042490           4         3.0\n",
       "Richard Dysart    0.000088  0.001318  15.042490           4         3.0\n",
       "Teri Garr         0.000131  0.001757  13.371102           6         4.0\n",
       "Sondra Locke      0.000131  0.001757  13.371102           6         4.0\n",
       "Bill McKinney     0.000131  0.001757  13.371102           6         4.0\n",
       "R. G. Armstrong   0.000131  0.001757  13.371102           6         4.0\n",
       "Dabney Coleman    0.000175  0.002196  12.535408           8         5.0\n",
       "Richard Jordan    0.000109  0.001318  12.033992           5         3.0\n",
       "Michael Palin     0.000109  0.001318  12.033992           5         3.0\n",
       "Keith Carradine   0.000109  0.001318  12.033992           5         3.0\n",
       "William Devane    0.000109  0.001318  12.033992           5         3.0\n",
       "Susannah York     0.000109  0.001318  12.033992           5         3.0\n",
       "Griffin Dunne     0.000109  0.001318  12.033992           5         3.0\n",
       "Brooke Adams      0.000109  0.001318  12.033992           5         3.0\n",
       "Tommy Chong       0.000153  0.001757  11.460945           7         4.0\n",
       "Jenny Agutter     0.000153  0.001757  11.460945           7         4.0\n",
       "Robert Carradine  0.000197  0.002196  11.142585           9         5.0\n",
       "Bradford Dillman  0.000131  0.001318  10.028327           6         3.0"
      ]
     },
     "execution_count": 91,
     "metadata": {},
     "output_type": "execute_result"
    }
   ],
   "source": [
    "# Map previous counts into new lift table\n",
    "actor_lift_filtered = actor_lift.copy()\n",
    "actor_lift_filtered['full_count'] = actor_lift_filtered.index.map(full_actor_counts)\n",
    "actor_lift_filtered['cult_count'] = actor_lift_filtered.index.map(cult_actor_counts)\n",
    "\n",
    "# Filter out low-frequency actors (e.g., appearing 2 or fewer times in either dataset)\n",
    "actor_lift_filtered = actor_lift_filtered[\n",
    "    (actor_lift_filtered['full_count'] > 2) &\n",
    "    (actor_lift_filtered['cult_count'] > 2)\n",
    "]\n",
    "\n",
    "# Sort by lift, descending\n",
    "actor_lift_filtered = actor_lift_filtered.sort_values(by='lift', ascending=False)\n",
    "\n",
    "# Preview the top results\n",
    "actor_lift_filtered.head(20)\n"
   ]
  },
  {
   "cell_type": "markdown",
   "metadata": {},
   "source": [
    "__This list feels much better and I decided to base my observations on it.__"
   ]
  },
  {
   "cell_type": "markdown",
   "metadata": {},
   "source": [
    "#### Actor Presence in Cult Films: Key Observations\n",
    "- High-lift actors aren’t mainstream stars but rather familiar character actors and supporting performers. Names like P.J. Soles, Dabney Coleman, and R.G. Armstrong consistently show up in cult-associated titles despite appearing infrequently in the full dataset.\n",
    "- Lift values above 10 tend to reflect modest but repeated appearances in cult-classified films. For instance, P.J. Soles appears just three times overall, yet all three are cult titles — which drives her lift score significantly higher.\n",
    "- The data favors actors connected to stylistic niches or genre signatures. Teri Garr, Michael Palin, and Griffin Dunne are associated with surreal, offbeat, or genre-blending projects that perform well in cult scoring.\n",
    "- Actors with 5–9 cult appearances, like Dabney Coleman and Robert Carradine, appear to be consistent contributors to cult film culture. Their presence may be linked to specific decades, recurring character types, or tonal styles embraced by cult audiences.\n",
    "- The list includes genre-crossers and cult specialists, implying that cult status isn’t tied to one genre alone. Actors whose filmography spans horror, satire, sci-fi, and experimental storytelling seem to have stronger cult traction.\n"
   ]
  },
  {
   "cell_type": "markdown",
   "metadata": {},
   "source": [
    "__Bonus: For fun I wanted to see if `Bruce Campbell` had any movies in the list.  He's my favorite 'cult classic' actor and I was curious about his stats and ranking.__"
   ]
  },
  {
   "cell_type": "code",
   "execution_count": 92,
   "metadata": {},
   "outputs": [
    {
     "name": "stdout",
     "output_type": "stream",
     "text": [
      "Bruce Campbell appears in the following cult classics:\n",
      "['The Evil Dead', 'Evil Dead II']\n",
      "\n",
      "Bruce Campbell appears in the following films overall:\n",
      "['The Escort', 'Burn Notice: The Fall of Sam Axe', 'Serving Sara', 'Bubba Ho-tep', 'The Love Bug', \"McHale's Navy\", 'Man with the Screaming Brain', 'Alien Apocalypse', 'The Ant Bully', 'Aqua Teen Hunger Force Colon Movie Film for Theaters', 'My Name Is Bruce', 'Army of Darkness', 'The Evil Dead', 'Intruder', 'Maniac Cop', 'Evil Dead II', 'Maniac Cop 2']\n",
      "\n",
      "Bruce Campbell appears in 17 films total.\n",
      "Bruce Campbell ranks #388 among all actors by appearance count.\n"
     ]
    }
   ],
   "source": [
    "# Filter for Bruce Campbell in cult dataset\n",
    "bruce_cult_films = cult_exploded[cult_exploded['cast_list'].str.contains('Bruce Campbell', case=False, na=False)]\n",
    "bruce_cult_titles = bruce_cult_films['original_title'].drop_duplicates()\n",
    "\n",
    "# Filter for Bruce Campbell in full dataset\n",
    "bruce_films = df_exploded[df_exploded['cast_list'].str.contains('Bruce Campbell', case=False, na=False)]\n",
    "bruce_titles = bruce_films['original_title'].drop_duplicates()\n",
    "\n",
    "# Count and rank\n",
    "actor_counts = df_exploded['cast_list'].value_counts()\n",
    "bruce_count = actor_counts.get('Bruce Campbell', 0)\n",
    "bruce_rank = actor_counts.rank(ascending=False, method='min').get('Bruce Campbell', None)\n",
    "\n",
    "# Display results\n",
    "print(\"Bruce Campbell appears in the following cult classics:\")\n",
    "print(bruce_cult_titles.tolist())\n",
    "\n",
    "print(\"\\nBruce Campbell appears in the following films overall:\")\n",
    "print(bruce_titles.tolist())\n",
    "\n",
    "print(f\"\\nBruce Campbell appears in {bruce_count} films total.\")\n",
    "print(f\"Bruce Campbell ranks #{int(bruce_rank)} among all actors by appearance count.\")\n"
   ]
  },
  {
   "cell_type": "markdown",
   "metadata": {},
   "source": [
    "<a id='conclusions'></a>\n",
    "## Conclusions\n",
    "\n",
    "### Summary of Findings\n",
    "This analysis set out to explore two questions: which genres are most strongly associated with cult films, and which actors appear most frequently in cult classics. To answer the first, I built a genre lift table that compares how often each genre appears in cult-classified films versus the broader dataset. Lift scores helped highlight genres that are overrepresented among cult titles, controlling for their base frequency. <br>  \n",
    "    \n",
    "Contrary to my initial expectations, horror and science fiction were not the most lifted genres. Instead, music, history, and war scored significantly higher. This suggests that cult status may be more closely tied to themes like performance, reinterpretation of real events, or emotionally intense storytelling than to traditional genre labels. <br>\n",
    "\n",
    "For the second question, I performed a similar lift analysis on actors. To avoid misleading results from low-frequency names, I filtered out actors who appeared only once or twice. This helped surface recurring contributors such as P.J. Soles, Dabney Coleman, and Michael Palin. These performers aren’t top-billed stars but show consistent presence in cult-scoring titles, often through eccentric or genre-defining roles. <br>\n",
    "\n",
    "This work was purely exploratory and does not include statistical testing. No causal relationships are implied, and all findings are observational. One limitation is that the analysis relies entirely on proportional metrics and may overlook deeper film-level patterns such as character type, dialogue style, or audience reception. Additionally, although I considered analyzing keywords, I limited the scope to genres and actors due to time constraints. <br>\n",
    "\n",
    "External resources such as Wikipedia, IMDb, and Google were used throughout the project to help define “cult classics” and refine the Cult Score formula. These references provided grounding for which titles and contributors are typically cited in cult film discussions.\n",
    "\n",
    "Future work could expand the analysis by incorporating time periods, tagline trends, or viewer ratings to enrich our understanding of cult appeal. Overall, the findings offer new perspectives on the kinds of stories and performers that drive enduring niche fandom.\n",
    "    \n",
    "\n",
    "## Submitting your Project \n",
    "\n",
    "> **Tip**: Before you submit your project, you need to create a .html or .pdf version of this notebook in the workspace here. To do that, run the code cell below. If it worked correctly, you should see output that starts with `NbConvertApp] Converting notebook`, and you should see the generated .html file in the workspace directory (click on the orange Jupyter icon in the upper left).\n",
    "\n",
    "> **Tip**: Alternatively, you can download this report as .html via the **File** > **Download as** submenu, and then manually upload it into the workspace directory by clicking on the orange Jupyter icon in the upper left, then using the Upload button.\n",
    "\n",
    "> **Tip**: Once you've done this, you can submit your project by clicking on the \"Submit Project\" button in the lower right here. This will create and submit a zip file with this .ipynb doc and the .html or .pdf version you created. Congratulations!"
   ]
  },
  {
   "cell_type": "code",
   "execution_count": 93,
   "metadata": {
    "scrolled": true,
    "tags": []
   },
   "outputs": [
    {
     "name": "stdout",
     "output_type": "stream",
     "text": [
      "[NbConvertApp] Converting notebook Investigate_a_Dataset.ipynb to html\n",
      "[NbConvertApp] WARNING | Alternative text is missing on 1 image(s).\n",
      "[NbConvertApp] Writing 435846 bytes to Investigate_a_Dataset.html\n"
     ]
    }
   ],
   "source": [
    "# Running this cell will execute a bash command to convert this notebook to an .html file\n",
    "!python -m nbconvert --to html Investigate_a_Dataset.ipynb"
   ]
  },
  {
   "cell_type": "code",
   "execution_count": 95,
   "metadata": {
    "scrolled": true
   },
   "outputs": [
    {
     "name": "stdout",
     "output_type": "stream",
     "text": [
      "[NbConvertApp] Converting notebook Investigate_a_Dataset.ipynb to pdf\n",
      "[NbConvertApp] ERROR | Error while converting 'Investigate_a_Dataset.ipynb'\n",
      "Traceback (most recent call last):\n",
      "  File \"/opt/venv/lib/python3.10/site-packages/nbconvert/nbconvertapp.py\", line 487, in export_single_notebook\n",
      "    output, resources = self.exporter.from_filename(\n",
      "  File \"/opt/venv/lib/python3.10/site-packages/nbconvert/exporters/templateexporter.py\", line 386, in from_filename\n",
      "    return super().from_filename(filename, resources, **kw)  # type:ignore[return-value]\n",
      "  File \"/opt/venv/lib/python3.10/site-packages/nbconvert/exporters/exporter.py\", line 201, in from_filename\n",
      "    return self.from_file(f, resources=resources, **kw)\n",
      "  File \"/opt/venv/lib/python3.10/site-packages/nbconvert/exporters/templateexporter.py\", line 392, in from_file\n",
      "    return super().from_file(file_stream, resources, **kw)  # type:ignore[return-value]\n",
      "  File \"/opt/venv/lib/python3.10/site-packages/nbconvert/exporters/exporter.py\", line 220, in from_file\n",
      "    return self.from_notebook_node(\n",
      "  File \"/opt/venv/lib/python3.10/site-packages/nbconvert/exporters/pdf.py\", line 184, in from_notebook_node\n",
      "    latex, resources = super().from_notebook_node(nb, resources=resources, **kw)\n",
      "  File \"/opt/venv/lib/python3.10/site-packages/nbconvert/exporters/latex.py\", line 92, in from_notebook_node\n",
      "    return super().from_notebook_node(nb, resources, **kw)\n",
      "  File \"/opt/venv/lib/python3.10/site-packages/nbconvert/exporters/templateexporter.py\", line 424, in from_notebook_node\n",
      "    output = self.template.render(nb=nb_copy, resources=resources)\n",
      "  File \"/opt/venv/lib/python3.10/site-packages/jinja2/environment.py\", line 1301, in render\n",
      "    self.environment.handle_exception()\n",
      "  File \"/opt/venv/lib/python3.10/site-packages/jinja2/environment.py\", line 936, in handle_exception\n",
      "    raise rewrite_traceback_stack(source=source)\n",
      "  File \"/opt/venv/share/jupyter/nbconvert/templates/latex/index.tex.j2\", line 8, in top-level template code\n",
      "    ((* extends cell_style *))\n",
      "  File \"/opt/venv/share/jupyter/nbconvert/templates/latex/style_jupyter.tex.j2\", line 176, in top-level template code\n",
      "    \\prompt{(((prompt)))}{(((prompt_color)))}{(((execution_count)))}{(((extra_space)))}\n",
      "  File \"/opt/venv/share/jupyter/nbconvert/templates/latex/base.tex.j2\", line 7, in top-level template code\n",
      "    ((*- extends 'document_contents.tex.j2' -*))\n",
      "  File \"/opt/venv/share/jupyter/nbconvert/templates/latex/document_contents.tex.j2\", line 51, in top-level template code\n",
      "    ((*- block figure scoped -*))\n",
      "  File \"/opt/venv/share/jupyter/nbconvert/templates/latex/display_priority.j2\", line 5, in top-level template code\n",
      "    ((*- extends 'null.j2' -*))\n",
      "  File \"/opt/venv/share/jupyter/nbconvert/templates/latex/null.j2\", line 30, in top-level template code\n",
      "    ((*- block body -*))\n",
      "  File \"/opt/venv/share/jupyter/nbconvert/templates/latex/base.tex.j2\", line 222, in block 'body'\n",
      "    ((( super() )))\n",
      "  File \"/opt/venv/share/jupyter/nbconvert/templates/latex/null.j2\", line 32, in block 'body'\n",
      "    ((*- block any_cell scoped -*))\n",
      "  File \"/opt/venv/share/jupyter/nbconvert/templates/latex/null.j2\", line 85, in block 'any_cell'\n",
      "    ((*- block markdowncell scoped-*)) ((*- endblock markdowncell -*))\n",
      "  File \"/opt/venv/share/jupyter/nbconvert/templates/latex/document_contents.tex.j2\", line 68, in block 'markdowncell'\n",
      "    ((( cell.source | citation2latex | strip_files_prefix | convert_pandoc('markdown+tex_math_double_backslash', 'json',extra_args=[]) | resolve_references | convert_explicitly_relative_paths | convert_pandoc('json','latex'))))\n",
      "  File \"/opt/venv/lib/python3.10/site-packages/nbconvert/filters/pandoc.py\", line 35, in convert_pandoc\n",
      "    return pandoc(source, from_format, to_format, extra_args=extra_args)\n",
      "  File \"/opt/venv/lib/python3.10/site-packages/nbconvert/utils/pandoc.py\", line 51, in pandoc\n",
      "    check_pandoc_version()\n",
      "  File \"/opt/venv/lib/python3.10/site-packages/nbconvert/utils/pandoc.py\", line 99, in check_pandoc_version\n",
      "    v = get_pandoc_version()\n",
      "  File \"/opt/venv/lib/python3.10/site-packages/nbconvert/utils/pandoc.py\", line 76, in get_pandoc_version\n",
      "    raise PandocMissing()\n",
      "nbconvert.utils.pandoc.PandocMissing: Pandoc wasn't found.\n",
      "Please check that pandoc is installed:\n",
      "https://pandoc.org/installing.html\n"
     ]
    }
   ],
   "source": [
    "!python -m nbconvert --to pdf Investigate_a_Dataset.ipynb"
   ]
  },
  {
   "cell_type": "code",
   "execution_count": null,
   "metadata": {},
   "outputs": [],
   "source": []
  }
 ],
 "metadata": {
  "kernelspec": {
   "display_name": "Python 3 (ipykernel)",
   "language": "python",
   "name": "python3"
  },
  "language_info": {
   "codemirror_mode": {
    "name": "ipython",
    "version": 3
   },
   "file_extension": ".py",
   "mimetype": "text/x-python",
   "name": "python",
   "nbconvert_exporter": "python",
   "pygments_lexer": "ipython3",
   "version": "3.10.13"
  }
 },
 "nbformat": 4,
 "nbformat_minor": 4
}
